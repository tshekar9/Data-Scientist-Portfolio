{
  "cells": [
    {
      "cell_type": "markdown",
      "metadata": {
        "id": "WK7gkeDQegvy"
      },
      "source": [
        "## Sentiment Analyisis of Customer Review Data Using NLP and Neural Networks\n",
        "\n",
        "### Tejaswini Shekar\n",
        "\n",
        "______________________\n",
        "\n",
        "### Table of Contents\n",
        "\n",
        "I. Research Question\n",
        "\n",
        "- [A1. Research Question](#a1-research-question)\n",
        "- [A2. Goal of Analysis](#a2-goal-of-analysis)\n",
        "- [A3. Prescribed Network](#a3-prescribed-network)\n",
        "\n",
        "II. Data Preparation\n",
        "\n",
        "- [B1. Data Exploration](#b1-data-exploration)\n",
        "- [B2. Tokenization](#b2-tokenization)\n",
        "- [B3. Padding Process](#b3-padding-process)\n",
        "- [B4. Categories of Sentiment](#b4-categories-of-sentiment)\n",
        "- [B5. Steps to Prepare Data](#b5-steps-to-prepare-data)\n",
        "- [B6. Prepared Data Set](#b6-prepared-data-set)\n",
        "\n",
        "\n",
        "III. Network Architecture\n",
        "\n",
        "- [C1. Model Summary](#c1-model-summary)\n",
        "- [C2. Network Architecture](#c2-network-architecture)\n",
        "- [C3. Hyperparameters](#c3-hyperparameters)\n",
        "\n",
        "IV. Model Evaluation\n",
        "\n",
        "- [D1. Stopping Criteria](#d1-stopping-criteria)\n",
        "- [D2. Fitness](#d2-fitness)\n",
        "- [D3. Training Process](#d3-training-process)\n",
        "- [D4. Predictive Accuracy](#d4-predictive-accuracy)\n",
        "\n",
        "V. Summary and Recommendations\n",
        "\n",
        "- [E. Code](#e-code)\n",
        "- [F. Functionality](#f-functionality)\n",
        "- [G. Recommendations](#g-recommendations)\n",
        "\n",
        "VI. Reporting\n",
        "\n",
        "- [H. Reporting](#h-reporting)\n",
        "- [I. Sources](#i-sources)\n"
      ]
    },
    {
      "cell_type": "markdown",
      "metadata": {
        "id": "h7ldQfvVe5XS"
      },
      "source": [
        "### A1. Research Qestion\n",
        "\n",
        "My reserch question is, \"Is it possible to conduct sentiment analysis using neural networks on the three customer review datasets to determine whether each review is positive or negative?\"."
      ]
    },
    {
      "cell_type": "markdown",
      "metadata": {
        "id": "Wtto3ysEfDf8"
      },
      "source": [
        "### A2. Goal of Analysis\n",
        "\n",
        "The primary goal of the analysis is to identify positive and negative sentiments in the customer review data using neural networks and natural language processing. The results of the analysis can then be used to recommend an appropriate course of action for the companies."
      ]
    },
    {
      "cell_type": "markdown",
      "metadata": {
        "id": "GMKKGH_OfEKH"
      },
      "source": [
        "### A3. Prescribed Network\n",
        "\n",
        "Neural networks are a series of algorithms that aim to recognize relationships in data through a process mirroring the working of the human brain. Natural language processing involves using computer technology to manipulate human language (eg. email filters, search engines).\n",
        "\n",
        "In this PA, an RNN (recurrent neural network) will be used to analyze customer review data from three websites and identify positive and negative sentiments in them.\n",
        "\n",
        "I have chosen an RNN for this analysis because it works well with sequential data. Text classification tasks such as sentiment analysis have sequential/temporal data. This means that the data is present in a sequence one after the other, like words in a sentence. Therefore using an RNN would be ideal for this analysis."
      ]
    },
    {
      "cell_type": "markdown",
      "metadata": {
        "id": "mJKWI3A8fH2E"
      },
      "source": [
        "### B1. Data Exploration\n",
        "\n",
        "The three data sets (Amazon, Yelp and IMDB) were imported and combined into a single dataframe. The data was explored initially using the .head(), .info() and .shape methods. The data has two columns, \"Review\" and \"Sentiment\", with a total of 3000 rows/records. The \"Sentiment\" column has binary values of either 1 or 0 depending on whether the review is positive or negative.\n",
        "\n",
        "The total number of positive and negative reviews were visualized using a countplot and both were found to be equal (1500 each). The review lengths were also visualized using a histogram.\n",
        "\n",
        "It was verified that there were no null values in the data.\n",
        "\n",
        "The reviews were all lowercased.\n",
        "\n",
        "1. Irregular Characters:\n",
        "The data was checked for the presence of any irregular characters (eg. non-english characters, emojis, numbers). The initial total character count was 63. The data was then cleaned by removing irregular characters, numbers and punctuation. The final character count after lowercasing and removing irregular characters was 27 (26 lowercase alphabets and the space \" \" character).\n",
        "\n",
        "2. Vocabulary Size:\n",
        "It is the number of unique/tokenized words present in the data set across all reviews.\n",
        "The initial vocabulary size was 5092 prior to data processing.\n",
        "The final vocabulary size after tokenization, removal of stop words and lemmetization was **4559**. It was calculated using the Tokenizer() class from tensorflow.keras.preprocessing.text.\n",
        "\n",
        "3. Word Embedding Length:\n",
        "Embedding length is the number of words/characters in an input sequence.\n",
        "It can be computed as the fourth root of the vocabualry size (square root of the square root), rounded to the nearest integer. The word embedding length calculated by taking the fourth root of 4559 is 8.\n",
        "\n",
        "*However*, according to the powerpoint provided by Dr. Sewell and this article by [Kwan, 2023](#i-sources) on word embeddings, *the optimal size of embedding is anywhere between 100 to 300*. Given this information, I deem it more appropriate to used a word embedding length of **100** for the neural network to ensure the best outcome.\n",
        "\n",
        "\n",
        "4. Chosen Maximum Sequence Length Justification:\n",
        "Sequence length is the length of the longest input sequence, i.e. the maximum number of words in a sentence in the entire data set.  \n",
        "The maximum sequence length after cleaning the data (removing irregular characters, tokenizing, removing stopwords, lemmetizing, vectorizing) was found to be **44**. It was determine dusing the max() function.\n",
        "\n",
        "The code for data exploration and cleaning is provided below after section B6."
      ]
    },
    {
      "cell_type": "markdown",
      "metadata": {
        "id": "9OphATj_CXMt"
      },
      "source": [
        "### B2. Tokenization\n",
        "\n",
        "The tokenization process splits the review text into small \"tokens\", which can be words, characters or sub-words. Each token is assigned a unique \"word-index\", which is useful for the model in the training process.\n",
        "\n",
        "Tokenization is done using the Tokenizer() method from tensorflow.keras.preprocessing.text.\n",
        "\n",
        "The goals of tokenization include:\n",
        "- replacing abnormal characters/standardizing the review text\n",
        "- lemmetizing the reviews\n",
        "- vectorizing/sequencing the reviews\n",
        "- calculating the sequence length of the vectorized reviews and using it to pad the sequences"
      ]
    },
    {
      "cell_type": "markdown",
      "metadata": {
        "id": "wIzeXwd-CXMt"
      },
      "source": [
        "### B3. Padding Process\n",
        "\n",
        "Padding is a technique used to improve the performance of a neural network by ensuring uniformity in the shape of the tensors. Padding results in all the words/inputs to the network being of a uniform length. This is necessary since the reviews in the data are of varying lengths. Padding creates equal sized inputs and preserves all the available input data\n",
        "\n",
        "The function used to perform this is the pad_sequences function from tensorflow.keras.utils. The padding is done at the end of each review (\"post\") with 0's so that all data points are padded to the same final selected maximum length.\n",
        "\n",
        "A padding length of 44 was chosen because this is the maximum sequence length in the data, i.e. there are no reviews longer than 44 characters after vectorization. By padding all the reviews to 44, we are ensuring that the data is input into the neural network in its complete form and that no review is is cut off/incomplete.\n"
      ]
    },
    {
      "cell_type": "markdown",
      "metadata": {
        "id": "SzhzXFgzCXMt"
      },
      "source": [
        "### B4. Categories of Sentiment\n",
        "\n",
        "The reviews will be categorised into two groups; 1 (positive sentiment) or 0 (negative sentiment).\n",
        "\n",
        "The activation function for the final output layer is the sigmoid function. This activation function provides an output between zero and one, and is commonly used for binary classification problems. Since the sentiment analysis requires classification of the data into two categories; either positive or negative, this function is appropriate."
      ]
    },
    {
      "cell_type": "markdown",
      "metadata": {
        "id": "4yrMoJQ7CXMt"
      },
      "source": [
        "### B5. Steps to Prepare Data\n",
        "\n",
        "1. **Import Data:**\n",
        "\n",
        "Import the necessary libraries/packages. Read the three text files (Amazon, Yelp, IMDB) with pandas and combine them into one dataframe (combined_df). The combined dataframe has 2 columns and 3000 rows.\n",
        "\n",
        "2. **Exploratory Data Analysis:**\n",
        "\n",
        "  a. Get an overview of the data using the .head() and .info() functions. Check the shape of the data by using .shape.\n",
        "\n",
        "  b. Visualize the number of positive and negative reviews using a countplot.\n",
        "\n",
        "  c. Visualize the review lengths using a histogram.\n",
        "\n",
        "3. **Data Cleaning/Preprocessing:**\n",
        "\n",
        "  a. Check for null values.\n",
        "\n",
        "  b. Lowercase all the reviews to remove redundancies in lowercase/uppercase letters.\n",
        "\n",
        "  c. Irregular characters:\n",
        "  Find the initial character count of the data. Remove punctuation, emojis/irregular characters and recheck the character count (27).\n",
        "\n",
        "  d. Tokenize, remove stop words from the reviews and lemmetize the reviews:\n",
        "\n",
        "  - Tokenization is the process of splitting the review text into small \"tokens\", (words, characters or sub-words) and assigning a unique \"word-index\" to each token. This is useful for standardizing the text, as well as lemmetizing and sequencing the reviews later.\n",
        "\n",
        "  - Stop words are words such as \"a\", \"and\", \"the\" which do no carry any significant meaning for analysis. Removal of stop words can improve model performance by reducing noise and allowing the model to focus only on the important words.\n",
        "\n",
        "  - Lemmetization is the process of reducing words to their root form (lemma). Instead of just trimming the prefix/suffix of a word, lemmetization invlolves morphological analysis of a word to find its base. This ensures that different forms of the same word are treated the same.\n",
        "\n",
        "  These three steps were done together by defining a function with three parts and passing the dataset into it.\n",
        "\n",
        "  e. Determine the final vocabulary size of the data after the previous data cleaning steps. This is required to determine embedding length and build the neural network.\n",
        "\n",
        "  f. Vectorize the reviews.\n",
        "\n",
        "  Vectorization is the process of converting text data into numerical data so that it can be used by machine learning algorithms.\n",
        "\n",
        "  g. Check the minimum, maximum and median lengths of the vectorized reviews.\n",
        "\n",
        "  h. Pad the reviews to the maximum sequence length (44) as determined in the previous step. This ensures that each review/input to the neural network is the same size and no review data is lost.\n",
        "\n",
        "\n",
        "4. **Split Data into Train and Test Data Sets:**\n",
        "\n",
        "Split the processed data into training and testing sets using train_test_split from sklearn with an 80%(train)/ 20%(test) split as per industry standards.\n",
        "\n",
        "The size of the validation set is 20% and this will be specified when building the neural network with the argument \"validation_split=0.2\".\n",
        "\n",
        "5. **Export Processed Data:**\n",
        "\n",
        "Export the final processed and split data sets as csv files using the .to_csv() method."
      ]
    },
    {
      "cell_type": "markdown",
      "metadata": {
        "id": "k5QBAOh-CXMu"
      },
      "source": [
        "### B6. Prepared Data Set\n",
        "\n",
        "A copy of the prepared data set has been uploaded along with the PA.\n",
        "The code for exporting the processed data as csv files is provided below at the end of this section."
      ]
    },
    {
      "cell_type": "code",
      "execution_count": 128,
      "metadata": {
        "id": "nAWfglWL_lYp"
      },
      "outputs": [],
      "source": [
        "# filter warnings\n",
        "import warnings\n",
        "warnings.filterwarnings(\"ignore\")\n"
      ]
    },
    {
      "cell_type": "markdown",
      "metadata": {
        "id": "qrT2MRDzCXMu"
      },
      "source": [
        "##### Import Libraries"
      ]
    },
    {
      "cell_type": "code",
      "execution_count": 129,
      "metadata": {
        "colab": {
          "base_uri": "https://localhost:8080/"
        },
        "id": "FMTw0YOC_xOt",
        "outputId": "947602f9-852b-4ae8-9aa2-87d6f4e36157"
      },
      "outputs": [
        {
          "name": "stderr",
          "output_type": "stream",
          "text": [
            "[nltk_data] Downloading package stopwords to /root/nltk_data...\n",
            "[nltk_data]   Package stopwords is already up-to-date!\n",
            "[nltk_data] Downloading package punkt_tab to /root/nltk_data...\n",
            "[nltk_data]   Package punkt_tab is already up-to-date!\n",
            "[nltk_data] Downloading package wordnet to /root/nltk_data...\n",
            "[nltk_data]   Package wordnet is already up-to-date!\n"
          ]
        },
        {
          "data": {
            "text/plain": [
              "True"
            ]
          },
          "execution_count": 129,
          "metadata": {},
          "output_type": "execute_result"
        }
      ],
      "source": [
        "# import libraries\n",
        "import numpy as np\n",
        "import pandas as pd\n",
        "import matplotlib.pyplot as plt\n",
        "import seaborn as sns\n",
        "\n",
        "from sklearn.preprocessing import OneHotEncoder\n",
        "from sklearn.model_selection import train_test_split\n",
        "\n",
        "import re\n",
        "import tensorflow as tf\n",
        "import keras\n",
        "import nltk\n",
        "from tensorflow.keras.preprocessing.text import Tokenizer\n",
        "#from tensorflow.keras.preprocessing.sequence import pad_sequences\n",
        "from tensorflow.keras.utils import pad_sequences\n",
        "from tensorflow.keras.models import Sequential\n",
        "from tensorflow.keras.layers import Dense, Embedding\n",
        "from tensorflow.keras.callbacks import EarlyStopping\n",
        "from tensorflow.keras.models import load_model\n",
        "from nltk.corpus import stopwords\n",
        "from nltk import word_tokenize\n",
        "nltk.download(\"stopwords\")\n",
        "nltk.download(\"punkt_tab\")\n",
        "nltk.download('wordnet')\n"
      ]
    },
    {
      "cell_type": "code",
      "execution_count": 130,
      "metadata": {
        "colab": {
          "base_uri": "https://localhost:8080/",
          "height": 35
        },
        "id": "qzcblGbS_zV2",
        "outputId": "38c45eb7-e6b7-4aef-febc-61d6546bd19f"
      },
      "outputs": [
        {
          "data": {
            "application/vnd.google.colaboratory.intrinsic+json": {
              "type": "string"
            },
            "text/plain": [
              "'2.18.0'"
            ]
          },
          "execution_count": 130,
          "metadata": {},
          "output_type": "execute_result"
        }
      ],
      "source": [
        "# print tensorflow version\n",
        "tf.__version__"
      ]
    },
    {
      "cell_type": "markdown",
      "metadata": {
        "id": "uPSFfqcCCXMv"
      },
      "source": [
        "##### Import Data Sets"
      ]
    },
    {
      "cell_type": "code",
      "execution_count": 131,
      "metadata": {
        "id": "cttxIMmEAPI_"
      },
      "outputs": [],
      "source": [
        "# import the three datasets\n",
        "Amazon = pd.read_csv(\"./amazon_cells_labelled.txt\", delimiter=\"\\t\", header=None, names=[\"Review\", \"Sentiment\"])\n",
        "Yelp = pd.read_csv(\"yelp_labelled.txt\", delimiter=\"\\t\", header=None, names=[\"Review\", \"Sentiment\"])\n",
        "IMDB = pd.read_csv(\"imdb_labelled.txt\", delimiter=\"\\t|\\r\", header=None, names=[\"Review\", \"Sentiment\"])\n",
        "\n",
        "# combine the datasets into one dataframe\n",
        "combined_df = pd.concat([Amazon, Yelp, IMDB], ignore_index=True)\n"
      ]
    },
    {
      "cell_type": "markdown",
      "metadata": {
        "id": "RN9g-ZSKCXMv"
      },
      "source": [
        "##### Data Exploration"
      ]
    },
    {
      "cell_type": "code",
      "execution_count": 132,
      "metadata": {
        "colab": {
          "base_uri": "https://localhost:8080/",
          "height": 204
        },
        "id": "Nsf4hs7P9Y1k",
        "outputId": "418bece8-b84e-4b3f-ea88-a7bd00089a3c"
      },
      "outputs": [
        {
          "data": {
            "application/vnd.google.colaboratory.intrinsic+json": {
              "summary": "{\n  \"name\": \"combined_df\",\n  \"rows\": 3000,\n  \"fields\": [\n    {\n      \"column\": \"Review\",\n      \"properties\": {\n        \"dtype\": \"string\",\n        \"num_unique_values\": 2983,\n        \"samples\": [\n          \"Almost everyone involved must be return to school, acting is utterly predictable and bad, script is pile of garbage all round.  \",\n          \"I think this restaurant suffers from not trying hard enough.\",\n          \"It was that loud.Glad to say that the Plantronics 510 maintains a flawless connection to my cell and with no static during normal use.\"\n        ],\n        \"semantic_type\": \"\",\n        \"description\": \"\"\n      }\n    },\n    {\n      \"column\": \"Sentiment\",\n      \"properties\": {\n        \"dtype\": \"number\",\n        \"std\": 0,\n        \"min\": 0,\n        \"max\": 1,\n        \"num_unique_values\": 2,\n        \"samples\": [\n          1,\n          0\n        ],\n        \"semantic_type\": \"\",\n        \"description\": \"\"\n      }\n    }\n  ]\n}",
              "type": "dataframe",
              "variable_name": "combined_df"
            },
            "text/html": [
              "\n",
              "  <div id=\"df-97887873-465a-4053-a489-98582e88ebb0\" class=\"colab-df-container\">\n",
              "    <div>\n",
              "<style scoped>\n",
              "    .dataframe tbody tr th:only-of-type {\n",
              "        vertical-align: middle;\n",
              "    }\n",
              "\n",
              "    .dataframe tbody tr th {\n",
              "        vertical-align: top;\n",
              "    }\n",
              "\n",
              "    .dataframe thead th {\n",
              "        text-align: right;\n",
              "    }\n",
              "</style>\n",
              "<table border=\"1\" class=\"dataframe\">\n",
              "  <thead>\n",
              "    <tr style=\"text-align: right;\">\n",
              "      <th></th>\n",
              "      <th>Review</th>\n",
              "      <th>Sentiment</th>\n",
              "    </tr>\n",
              "  </thead>\n",
              "  <tbody>\n",
              "    <tr>\n",
              "      <th>0</th>\n",
              "      <td>So there is no way for me to plug it in here i...</td>\n",
              "      <td>0</td>\n",
              "    </tr>\n",
              "    <tr>\n",
              "      <th>1</th>\n",
              "      <td>Good case, Excellent value.</td>\n",
              "      <td>1</td>\n",
              "    </tr>\n",
              "    <tr>\n",
              "      <th>2</th>\n",
              "      <td>Great for the jawbone.</td>\n",
              "      <td>1</td>\n",
              "    </tr>\n",
              "    <tr>\n",
              "      <th>3</th>\n",
              "      <td>Tied to charger for conversations lasting more...</td>\n",
              "      <td>0</td>\n",
              "    </tr>\n",
              "    <tr>\n",
              "      <th>4</th>\n",
              "      <td>The mic is great.</td>\n",
              "      <td>1</td>\n",
              "    </tr>\n",
              "  </tbody>\n",
              "</table>\n",
              "</div>\n",
              "    <div class=\"colab-df-buttons\">\n",
              "\n",
              "  <div class=\"colab-df-container\">\n",
              "    <button class=\"colab-df-convert\" onclick=\"convertToInteractive('df-97887873-465a-4053-a489-98582e88ebb0')\"\n",
              "            title=\"Convert this dataframe to an interactive table.\"\n",
              "            style=\"display:none;\">\n",
              "\n",
              "  <svg xmlns=\"http://www.w3.org/2000/svg\" height=\"24px\" viewBox=\"0 -960 960 960\">\n",
              "    <path d=\"M120-120v-720h720v720H120Zm60-500h600v-160H180v160Zm220 220h160v-160H400v160Zm0 220h160v-160H400v160ZM180-400h160v-160H180v160Zm440 0h160v-160H620v160ZM180-180h160v-160H180v160Zm440 0h160v-160H620v160Z\"/>\n",
              "  </svg>\n",
              "    </button>\n",
              "\n",
              "  <style>\n",
              "    .colab-df-container {\n",
              "      display:flex;\n",
              "      gap: 12px;\n",
              "    }\n",
              "\n",
              "    .colab-df-convert {\n",
              "      background-color: #E8F0FE;\n",
              "      border: none;\n",
              "      border-radius: 50%;\n",
              "      cursor: pointer;\n",
              "      display: none;\n",
              "      fill: #1967D2;\n",
              "      height: 32px;\n",
              "      padding: 0 0 0 0;\n",
              "      width: 32px;\n",
              "    }\n",
              "\n",
              "    .colab-df-convert:hover {\n",
              "      background-color: #E2EBFA;\n",
              "      box-shadow: 0px 1px 2px rgba(60, 64, 67, 0.3), 0px 1px 3px 1px rgba(60, 64, 67, 0.15);\n",
              "      fill: #174EA6;\n",
              "    }\n",
              "\n",
              "    .colab-df-buttons div {\n",
              "      margin-bottom: 4px;\n",
              "    }\n",
              "\n",
              "    [theme=dark] .colab-df-convert {\n",
              "      background-color: #3B4455;\n",
              "      fill: #D2E3FC;\n",
              "    }\n",
              "\n",
              "    [theme=dark] .colab-df-convert:hover {\n",
              "      background-color: #434B5C;\n",
              "      box-shadow: 0px 1px 3px 1px rgba(0, 0, 0, 0.15);\n",
              "      filter: drop-shadow(0px 1px 2px rgba(0, 0, 0, 0.3));\n",
              "      fill: #FFFFFF;\n",
              "    }\n",
              "  </style>\n",
              "\n",
              "    <script>\n",
              "      const buttonEl =\n",
              "        document.querySelector('#df-97887873-465a-4053-a489-98582e88ebb0 button.colab-df-convert');\n",
              "      buttonEl.style.display =\n",
              "        google.colab.kernel.accessAllowed ? 'block' : 'none';\n",
              "\n",
              "      async function convertToInteractive(key) {\n",
              "        const element = document.querySelector('#df-97887873-465a-4053-a489-98582e88ebb0');\n",
              "        const dataTable =\n",
              "          await google.colab.kernel.invokeFunction('convertToInteractive',\n",
              "                                                    [key], {});\n",
              "        if (!dataTable) return;\n",
              "\n",
              "        const docLinkHtml = 'Like what you see? Visit the ' +\n",
              "          '<a target=\"_blank\" href=https://colab.research.google.com/notebooks/data_table.ipynb>data table notebook</a>'\n",
              "          + ' to learn more about interactive tables.';\n",
              "        element.innerHTML = '';\n",
              "        dataTable['output_type'] = 'display_data';\n",
              "        await google.colab.output.renderOutput(dataTable, element);\n",
              "        const docLink = document.createElement('div');\n",
              "        docLink.innerHTML = docLinkHtml;\n",
              "        element.appendChild(docLink);\n",
              "      }\n",
              "    </script>\n",
              "  </div>\n",
              "\n",
              "\n",
              "<div id=\"df-fb40f65c-b1cd-4a57-b3fb-69f5bdc5a7d5\">\n",
              "  <button class=\"colab-df-quickchart\" onclick=\"quickchart('df-fb40f65c-b1cd-4a57-b3fb-69f5bdc5a7d5')\"\n",
              "            title=\"Suggest charts\"\n",
              "            style=\"display:none;\">\n",
              "\n",
              "<svg xmlns=\"http://www.w3.org/2000/svg\" height=\"24px\"viewBox=\"0 0 24 24\"\n",
              "     width=\"24px\">\n",
              "    <g>\n",
              "        <path d=\"M19 3H5c-1.1 0-2 .9-2 2v14c0 1.1.9 2 2 2h14c1.1 0 2-.9 2-2V5c0-1.1-.9-2-2-2zM9 17H7v-7h2v7zm4 0h-2V7h2v10zm4 0h-2v-4h2v4z\"/>\n",
              "    </g>\n",
              "</svg>\n",
              "  </button>\n",
              "\n",
              "<style>\n",
              "  .colab-df-quickchart {\n",
              "      --bg-color: #E8F0FE;\n",
              "      --fill-color: #1967D2;\n",
              "      --hover-bg-color: #E2EBFA;\n",
              "      --hover-fill-color: #174EA6;\n",
              "      --disabled-fill-color: #AAA;\n",
              "      --disabled-bg-color: #DDD;\n",
              "  }\n",
              "\n",
              "  [theme=dark] .colab-df-quickchart {\n",
              "      --bg-color: #3B4455;\n",
              "      --fill-color: #D2E3FC;\n",
              "      --hover-bg-color: #434B5C;\n",
              "      --hover-fill-color: #FFFFFF;\n",
              "      --disabled-bg-color: #3B4455;\n",
              "      --disabled-fill-color: #666;\n",
              "  }\n",
              "\n",
              "  .colab-df-quickchart {\n",
              "    background-color: var(--bg-color);\n",
              "    border: none;\n",
              "    border-radius: 50%;\n",
              "    cursor: pointer;\n",
              "    display: none;\n",
              "    fill: var(--fill-color);\n",
              "    height: 32px;\n",
              "    padding: 0;\n",
              "    width: 32px;\n",
              "  }\n",
              "\n",
              "  .colab-df-quickchart:hover {\n",
              "    background-color: var(--hover-bg-color);\n",
              "    box-shadow: 0 1px 2px rgba(60, 64, 67, 0.3), 0 1px 3px 1px rgba(60, 64, 67, 0.15);\n",
              "    fill: var(--button-hover-fill-color);\n",
              "  }\n",
              "\n",
              "  .colab-df-quickchart-complete:disabled,\n",
              "  .colab-df-quickchart-complete:disabled:hover {\n",
              "    background-color: var(--disabled-bg-color);\n",
              "    fill: var(--disabled-fill-color);\n",
              "    box-shadow: none;\n",
              "  }\n",
              "\n",
              "  .colab-df-spinner {\n",
              "    border: 2px solid var(--fill-color);\n",
              "    border-color: transparent;\n",
              "    border-bottom-color: var(--fill-color);\n",
              "    animation:\n",
              "      spin 1s steps(1) infinite;\n",
              "  }\n",
              "\n",
              "  @keyframes spin {\n",
              "    0% {\n",
              "      border-color: transparent;\n",
              "      border-bottom-color: var(--fill-color);\n",
              "      border-left-color: var(--fill-color);\n",
              "    }\n",
              "    20% {\n",
              "      border-color: transparent;\n",
              "      border-left-color: var(--fill-color);\n",
              "      border-top-color: var(--fill-color);\n",
              "    }\n",
              "    30% {\n",
              "      border-color: transparent;\n",
              "      border-left-color: var(--fill-color);\n",
              "      border-top-color: var(--fill-color);\n",
              "      border-right-color: var(--fill-color);\n",
              "    }\n",
              "    40% {\n",
              "      border-color: transparent;\n",
              "      border-right-color: var(--fill-color);\n",
              "      border-top-color: var(--fill-color);\n",
              "    }\n",
              "    60% {\n",
              "      border-color: transparent;\n",
              "      border-right-color: var(--fill-color);\n",
              "    }\n",
              "    80% {\n",
              "      border-color: transparent;\n",
              "      border-right-color: var(--fill-color);\n",
              "      border-bottom-color: var(--fill-color);\n",
              "    }\n",
              "    90% {\n",
              "      border-color: transparent;\n",
              "      border-bottom-color: var(--fill-color);\n",
              "    }\n",
              "  }\n",
              "</style>\n",
              "\n",
              "  <script>\n",
              "    async function quickchart(key) {\n",
              "      const quickchartButtonEl =\n",
              "        document.querySelector('#' + key + ' button');\n",
              "      quickchartButtonEl.disabled = true;  // To prevent multiple clicks.\n",
              "      quickchartButtonEl.classList.add('colab-df-spinner');\n",
              "      try {\n",
              "        const charts = await google.colab.kernel.invokeFunction(\n",
              "            'suggestCharts', [key], {});\n",
              "      } catch (error) {\n",
              "        console.error('Error during call to suggestCharts:', error);\n",
              "      }\n",
              "      quickchartButtonEl.classList.remove('colab-df-spinner');\n",
              "      quickchartButtonEl.classList.add('colab-df-quickchart-complete');\n",
              "    }\n",
              "    (() => {\n",
              "      let quickchartButtonEl =\n",
              "        document.querySelector('#df-fb40f65c-b1cd-4a57-b3fb-69f5bdc5a7d5 button');\n",
              "      quickchartButtonEl.style.display =\n",
              "        google.colab.kernel.accessAllowed ? 'block' : 'none';\n",
              "    })();\n",
              "  </script>\n",
              "</div>\n",
              "\n",
              "    </div>\n",
              "  </div>\n"
            ],
            "text/plain": [
              "                                              Review  Sentiment\n",
              "0  So there is no way for me to plug it in here i...          0\n",
              "1                        Good case, Excellent value.          1\n",
              "2                             Great for the jawbone.          1\n",
              "3  Tied to charger for conversations lasting more...          0\n",
              "4                                  The mic is great.          1"
            ]
          },
          "execution_count": 132,
          "metadata": {},
          "output_type": "execute_result"
        }
      ],
      "source": [
        "# get an overview of the data\n",
        "combined_df.head()\n"
      ]
    },
    {
      "cell_type": "code",
      "execution_count": 133,
      "metadata": {
        "colab": {
          "base_uri": "https://localhost:8080/"
        },
        "id": "vJv-U-Ae9ZGQ",
        "outputId": "f09f4c8a-52a7-4584-d8c4-a8ca95877658"
      },
      "outputs": [
        {
          "name": "stdout",
          "output_type": "stream",
          "text": [
            "<class 'pandas.core.frame.DataFrame'>\n",
            "RangeIndex: 3000 entries, 0 to 2999\n",
            "Data columns (total 2 columns):\n",
            " #   Column     Non-Null Count  Dtype \n",
            "---  ------     --------------  ----- \n",
            " 0   Review     3000 non-null   object\n",
            " 1   Sentiment  3000 non-null   int64 \n",
            "dtypes: int64(1), object(1)\n",
            "memory usage: 47.0+ KB\n"
          ]
        }
      ],
      "source": [
        "combined_df.info()"
      ]
    },
    {
      "cell_type": "code",
      "execution_count": 134,
      "metadata": {
        "colab": {
          "base_uri": "https://localhost:8080/"
        },
        "id": "lFvC_5QhCq1E",
        "outputId": "79657990-e83e-479f-c44e-8571476b7ce2"
      },
      "outputs": [
        {
          "data": {
            "text/plain": [
              "(3000, 2)"
            ]
          },
          "execution_count": 134,
          "metadata": {},
          "output_type": "execute_result"
        }
      ],
      "source": [
        "# check the shape of the combined dataframe\n",
        "combined_df.shape"
      ]
    },
    {
      "cell_type": "markdown",
      "metadata": {
        "id": "T7WAohLrCXMw"
      },
      "source": [
        "##### Visualize Positive and Negative Reviews\n",
        "\n",
        "From the plot, it is clear that there are an equal number of positive and negative reviews (1500 each)."
      ]
    },
    {
      "cell_type": "code",
      "execution_count": 135,
      "metadata": {
        "colab": {
          "base_uri": "https://localhost:8080/",
          "height": 466
        },
        "id": "fJWOSQqJDySR",
        "outputId": "b7a19deb-4760-4124-bdb9-8fabd31728ce"
      },
      "outputs": [
        {
          "data": {
            "text/plain": [
              "[Text(0, 0, '1500'), Text(0, 0, '1500')]"
            ]
          },
          "execution_count": 135,
          "metadata": {},
          "output_type": "execute_result"
        },
        {
          "data": {
            "image/png": "[encoded data removed]",
            "text/plain": [
              "<Figure size 640x480 with 1 Axes>"
            ]
          },
          "metadata": {},
          "output_type": "display_data"
        }
      ],
      "source": [
        "# visualize the data\n",
        "from __future__ import annotations\n",
        "ax = sns.countplot(x=\"Sentiment\", data=combined_df, )\n",
        "ax.bar_label(ax.containers[0])"
      ]
    },
    {
      "cell_type": "markdown",
      "metadata": {
        "id": "E1cGq330CXMw"
      },
      "source": [
        "##### Visualize Review Lengths\n",
        "\n",
        "The histogram shows review length in number of characters on the x-axis and count on the y-axis. We can infer from the graph that most of the reviews are under 100 characters with very few reviews having more than 250 characters."
      ]
    },
    {
      "cell_type": "code",
      "execution_count": 136,
      "metadata": {
        "colab": {
          "base_uri": "https://localhost:8080/",
          "height": 564
        },
        "id": "rXQ4KYBWCXMw",
        "outputId": "11c7adc9-a5ce-48e3-bd90-ffef1826e63a"
      },
      "outputs": [
        {
          "data": {
            "image/png": "[encoded data removed]",
            "text/plain": [
              "<Figure size 1000x600 with 1 Axes>"
            ]
          },
          "metadata": {},
          "output_type": "display_data"
        }
      ],
      "source": [
        "# visualize length of reviews using a histogram\n",
        "df = combined_df.copy()\n",
        "df[\"Review_Length\"] = df[\"Review\"].apply(len)\n",
        "plt.figure(figsize=(10, 6))\n",
        "sns.histplot(df[\"Review_Length\"], bins=20, kde=True, color='blue')\n",
        "plt.title(\"Review Length\")\n",
        "plt.xlabel(\"Review Length (Number of Characters)\")\n",
        "plt.ylabel(\"Count\")\n",
        "plt.show()"
      ]
    },
    {
      "cell_type": "markdown",
      "metadata": {
        "id": "-vrD2Ht-CXMw"
      },
      "source": [
        "##### Check for Null Values"
      ]
    },
    {
      "cell_type": "code",
      "execution_count": 137,
      "metadata": {
        "colab": {
          "base_uri": "https://localhost:8080/",
          "height": 145
        },
        "id": "ECeSXs10yR2J",
        "outputId": "ad50363f-a145-4d05-b135-afa8d4a3cbc1"
      },
      "outputs": [
        {
          "data": {
            "text/html": [
              "<div>\n",
              "<style scoped>\n",
              "    .dataframe tbody tr th:only-of-type {\n",
              "        vertical-align: middle;\n",
              "    }\n",
              "\n",
              "    .dataframe tbody tr th {\n",
              "        vertical-align: top;\n",
              "    }\n",
              "\n",
              "    .dataframe thead th {\n",
              "        text-align: right;\n",
              "    }\n",
              "</style>\n",
              "<table border=\"1\" class=\"dataframe\">\n",
              "  <thead>\n",
              "    <tr style=\"text-align: right;\">\n",
              "      <th></th>\n",
              "      <th>0</th>\n",
              "    </tr>\n",
              "  </thead>\n",
              "  <tbody>\n",
              "    <tr>\n",
              "      <th>Review</th>\n",
              "      <td>0</td>\n",
              "    </tr>\n",
              "    <tr>\n",
              "      <th>Sentiment</th>\n",
              "      <td>0</td>\n",
              "    </tr>\n",
              "  </tbody>\n",
              "</table>\n",
              "</div><br><label><b>dtype:</b> int64</label>"
            ],
            "text/plain": [
              "Review       0\n",
              "Sentiment    0\n",
              "dtype: int64"
            ]
          },
          "execution_count": 137,
          "metadata": {},
          "output_type": "execute_result"
        }
      ],
      "source": [
        "# check for null values\n",
        "combined_df.isna().sum()"
      ]
    },
    {
      "cell_type": "markdown",
      "metadata": {
        "id": "tGVKpB_aGeLS"
      },
      "source": [
        "##### Make Reviews Lowercase"
      ]
    },
    {
      "cell_type": "code",
      "execution_count": 138,
      "metadata": {
        "id": "Uq9j3u0MGgUi"
      },
      "outputs": [],
      "source": [
        "combined_df.Review = combined_df.Review.str.lower()"
      ]
    },
    {
      "cell_type": "markdown",
      "metadata": {
        "id": "Vr6AYoZfCXMw"
      },
      "source": [
        "##### Remove Irregular Characters"
      ]
    },
    {
      "cell_type": "code",
      "execution_count": 139,
      "metadata": {
        "colab": {
          "base_uri": "https://localhost:8080/"
        },
        "id": "w3Ogh-w0x5NC",
        "outputId": "4c34da2e-57db-4051-c7ef-27f92f5e52fa"
      },
      "outputs": [
        {
          "name": "stdout",
          "output_type": "stream",
          "text": [
            "['s', 'o', ' ', 't', 'h', 'e', 'r', 'i', 'n', 'w', 'a', 'y', 'f', 'm', 'p', 'l', 'u', 'g', 'b', 'c', 'v', '.', 'd', ',', 'x', 'j', '4', '5', '!', 'z', 'q', '+', '\"', 'k', \"'\", '/', '7', '3', '6', '8', '0', '2', '?', '-', '1', ':', ')', '(', '&', '$', '*', ';', '%', '9', '#', '[', ']', 'é', 'ê', '\\x96', '\\x85', 'å', '\\x97']\n",
            "Initial Character Count:  63\n"
          ]
        }
      ],
      "source": [
        "# get initial character count of data\n",
        "reviews=combined_df[\"Review\"]\n",
        "list_of_chars = []\n",
        "for review in reviews:\n",
        "  for character in review:\n",
        "    if character not in list_of_chars:\n",
        "      list_of_chars.append(character)\n",
        "print(list_of_chars)\n",
        "print(\"Initial Character Count: \", len(list_of_chars))"
      ]
    },
    {
      "cell_type": "code",
      "execution_count": 140,
      "metadata": {
        "id": "UyOcCQpMyVk9"
      },
      "outputs": [],
      "source": [
        "# remove punctuation and irregular characters (emojis, non-english characters, numbers)\n",
        "cleaned_df = combined_df.copy()\n",
        "\n",
        "# removing brackets\n",
        "cleaned_df[\"Review\"] = cleaned_df[\"Review\"].apply(lambda x: re.sub(r'[\\[\\]]', \" \", x))\n",
        "\n",
        "# removing special characters\n",
        "pattern = re.compile('[^a-zA-z0-9\\s]')\n",
        "cleaned_df[\"Review\"] = cleaned_df[\"Review\"].apply(lambda x: re.sub(pattern, \" \", x))\n",
        "cleaned_df[\"Review\"] = cleaned_df[\"Review\"].apply(lambda x: re.sub(r'\\x85', \" \", x))\n",
        "\n",
        "# removing numbers\n",
        "pattern = re.compile('\\d+')\n",
        "cleaned_df[\"Review\"] = cleaned_df[\"Review\"].apply(lambda x: re.sub(pattern, \" \", x))"
      ]
    },
    {
      "cell_type": "code",
      "execution_count": 141,
      "metadata": {
        "colab": {
          "base_uri": "https://localhost:8080/",
          "height": 204
        },
        "id": "PlhsLBOiyZLP",
        "outputId": "6dfd6c9a-86bc-46aa-b1ff-75a29d1e0791"
      },
      "outputs": [
        {
          "data": {
            "application/vnd.google.colaboratory.intrinsic+json": {
              "summary": "{\n  \"name\": \"cleaned_df\",\n  \"rows\": 3000,\n  \"fields\": [\n    {\n      \"column\": \"Review\",\n      \"properties\": {\n        \"dtype\": \"string\",\n        \"num_unique_values\": 2977,\n        \"samples\": [\n          \"almost everyone involved must be return to school  acting is utterly predictable and bad  script is pile of garbage all round   \",\n          \"everything captain howdy says is either laughable or just plain stupid   \",\n          \"special thanks to dylan t  for the recommendation on what to order    all yummy for my tummy \"\n        ],\n        \"semantic_type\": \"\",\n        \"description\": \"\"\n      }\n    },\n    {\n      \"column\": \"Sentiment\",\n      \"properties\": {\n        \"dtype\": \"number\",\n        \"std\": 0,\n        \"min\": 0,\n        \"max\": 1,\n        \"num_unique_values\": 2,\n        \"samples\": [\n          1,\n          0\n        ],\n        \"semantic_type\": \"\",\n        \"description\": \"\"\n      }\n    }\n  ]\n}",
              "type": "dataframe",
              "variable_name": "cleaned_df"
            },
            "text/html": [
              "\n",
              "  <div id=\"df-ede6d457-60b2-4759-b066-007d44594c4f\" class=\"colab-df-container\">\n",
              "    <div>\n",
              "<style scoped>\n",
              "    .dataframe tbody tr th:only-of-type {\n",
              "        vertical-align: middle;\n",
              "    }\n",
              "\n",
              "    .dataframe tbody tr th {\n",
              "        vertical-align: top;\n",
              "    }\n",
              "\n",
              "    .dataframe thead th {\n",
              "        text-align: right;\n",
              "    }\n",
              "</style>\n",
              "<table border=\"1\" class=\"dataframe\">\n",
              "  <thead>\n",
              "    <tr style=\"text-align: right;\">\n",
              "      <th></th>\n",
              "      <th>Review</th>\n",
              "      <th>Sentiment</th>\n",
              "    </tr>\n",
              "  </thead>\n",
              "  <tbody>\n",
              "    <tr>\n",
              "      <th>0</th>\n",
              "      <td>so there is no way for me to plug it in here i...</td>\n",
              "      <td>0</td>\n",
              "    </tr>\n",
              "    <tr>\n",
              "      <th>1</th>\n",
              "      <td>good case  excellent value</td>\n",
              "      <td>1</td>\n",
              "    </tr>\n",
              "    <tr>\n",
              "      <th>2</th>\n",
              "      <td>great for the jawbone</td>\n",
              "      <td>1</td>\n",
              "    </tr>\n",
              "    <tr>\n",
              "      <th>3</th>\n",
              "      <td>tied to charger for conversations lasting more...</td>\n",
              "      <td>0</td>\n",
              "    </tr>\n",
              "    <tr>\n",
              "      <th>4</th>\n",
              "      <td>the mic is great</td>\n",
              "      <td>1</td>\n",
              "    </tr>\n",
              "  </tbody>\n",
              "</table>\n",
              "</div>\n",
              "    <div class=\"colab-df-buttons\">\n",
              "\n",
              "  <div class=\"colab-df-container\">\n",
              "    <button class=\"colab-df-convert\" onclick=\"convertToInteractive('df-ede6d457-60b2-4759-b066-007d44594c4f')\"\n",
              "            title=\"Convert this dataframe to an interactive table.\"\n",
              "            style=\"display:none;\">\n",
              "\n",
              "  <svg xmlns=\"http://www.w3.org/2000/svg\" height=\"24px\" viewBox=\"0 -960 960 960\">\n",
              "    <path d=\"M120-120v-720h720v720H120Zm60-500h600v-160H180v160Zm220 220h160v-160H400v160Zm0 220h160v-160H400v160ZM180-400h160v-160H180v160Zm440 0h160v-160H620v160ZM180-180h160v-160H180v160Zm440 0h160v-160H620v160Z\"/>\n",
              "  </svg>\n",
              "    </button>\n",
              "\n",
              "  <style>\n",
              "    .colab-df-container {\n",
              "      display:flex;\n",
              "      gap: 12px;\n",
              "    }\n",
              "\n",
              "    .colab-df-convert {\n",
              "      background-color: #E8F0FE;\n",
              "      border: none;\n",
              "      border-radius: 50%;\n",
              "      cursor: pointer;\n",
              "      display: none;\n",
              "      fill: #1967D2;\n",
              "      height: 32px;\n",
              "      padding: 0 0 0 0;\n",
              "      width: 32px;\n",
              "    }\n",
              "\n",
              "    .colab-df-convert:hover {\n",
              "      background-color: #E2EBFA;\n",
              "      box-shadow: 0px 1px 2px rgba(60, 64, 67, 0.3), 0px 1px 3px 1px rgba(60, 64, 67, 0.15);\n",
              "      fill: #174EA6;\n",
              "    }\n",
              "\n",
              "    .colab-df-buttons div {\n",
              "      margin-bottom: 4px;\n",
              "    }\n",
              "\n",
              "    [theme=dark] .colab-df-convert {\n",
              "      background-color: #3B4455;\n",
              "      fill: #D2E3FC;\n",
              "    }\n",
              "\n",
              "    [theme=dark] .colab-df-convert:hover {\n",
              "      background-color: #434B5C;\n",
              "      box-shadow: 0px 1px 3px 1px rgba(0, 0, 0, 0.15);\n",
              "      filter: drop-shadow(0px 1px 2px rgba(0, 0, 0, 0.3));\n",
              "      fill: #FFFFFF;\n",
              "    }\n",
              "  </style>\n",
              "\n",
              "    <script>\n",
              "      const buttonEl =\n",
              "        document.querySelector('#df-ede6d457-60b2-4759-b066-007d44594c4f button.colab-df-convert');\n",
              "      buttonEl.style.display =\n",
              "        google.colab.kernel.accessAllowed ? 'block' : 'none';\n",
              "\n",
              "      async function convertToInteractive(key) {\n",
              "        const element = document.querySelector('#df-ede6d457-60b2-4759-b066-007d44594c4f');\n",
              "        const dataTable =\n",
              "          await google.colab.kernel.invokeFunction('convertToInteractive',\n",
              "                                                    [key], {});\n",
              "        if (!dataTable) return;\n",
              "\n",
              "        const docLinkHtml = 'Like what you see? Visit the ' +\n",
              "          '<a target=\"_blank\" href=https://colab.research.google.com/notebooks/data_table.ipynb>data table notebook</a>'\n",
              "          + ' to learn more about interactive tables.';\n",
              "        element.innerHTML = '';\n",
              "        dataTable['output_type'] = 'display_data';\n",
              "        await google.colab.output.renderOutput(dataTable, element);\n",
              "        const docLink = document.createElement('div');\n",
              "        docLink.innerHTML = docLinkHtml;\n",
              "        element.appendChild(docLink);\n",
              "      }\n",
              "    </script>\n",
              "  </div>\n",
              "\n",
              "\n",
              "<div id=\"df-cf3b9f85-5d31-4ede-ae48-0b233b0d439a\">\n",
              "  <button class=\"colab-df-quickchart\" onclick=\"quickchart('df-cf3b9f85-5d31-4ede-ae48-0b233b0d439a')\"\n",
              "            title=\"Suggest charts\"\n",
              "            style=\"display:none;\">\n",
              "\n",
              "<svg xmlns=\"http://www.w3.org/2000/svg\" height=\"24px\"viewBox=\"0 0 24 24\"\n",
              "     width=\"24px\">\n",
              "    <g>\n",
              "        <path d=\"M19 3H5c-1.1 0-2 .9-2 2v14c0 1.1.9 2 2 2h14c1.1 0 2-.9 2-2V5c0-1.1-.9-2-2-2zM9 17H7v-7h2v7zm4 0h-2V7h2v10zm4 0h-2v-4h2v4z\"/>\n",
              "    </g>\n",
              "</svg>\n",
              "  </button>\n",
              "\n",
              "<style>\n",
              "  .colab-df-quickchart {\n",
              "      --bg-color: #E8F0FE;\n",
              "      --fill-color: #1967D2;\n",
              "      --hover-bg-color: #E2EBFA;\n",
              "      --hover-fill-color: #174EA6;\n",
              "      --disabled-fill-color: #AAA;\n",
              "      --disabled-bg-color: #DDD;\n",
              "  }\n",
              "\n",
              "  [theme=dark] .colab-df-quickchart {\n",
              "      --bg-color: #3B4455;\n",
              "      --fill-color: #D2E3FC;\n",
              "      --hover-bg-color: #434B5C;\n",
              "      --hover-fill-color: #FFFFFF;\n",
              "      --disabled-bg-color: #3B4455;\n",
              "      --disabled-fill-color: #666;\n",
              "  }\n",
              "\n",
              "  .colab-df-quickchart {\n",
              "    background-color: var(--bg-color);\n",
              "    border: none;\n",
              "    border-radius: 50%;\n",
              "    cursor: pointer;\n",
              "    display: none;\n",
              "    fill: var(--fill-color);\n",
              "    height: 32px;\n",
              "    padding: 0;\n",
              "    width: 32px;\n",
              "  }\n",
              "\n",
              "  .colab-df-quickchart:hover {\n",
              "    background-color: var(--hover-bg-color);\n",
              "    box-shadow: 0 1px 2px rgba(60, 64, 67, 0.3), 0 1px 3px 1px rgba(60, 64, 67, 0.15);\n",
              "    fill: var(--button-hover-fill-color);\n",
              "  }\n",
              "\n",
              "  .colab-df-quickchart-complete:disabled,\n",
              "  .colab-df-quickchart-complete:disabled:hover {\n",
              "    background-color: var(--disabled-bg-color);\n",
              "    fill: var(--disabled-fill-color);\n",
              "    box-shadow: none;\n",
              "  }\n",
              "\n",
              "  .colab-df-spinner {\n",
              "    border: 2px solid var(--fill-color);\n",
              "    border-color: transparent;\n",
              "    border-bottom-color: var(--fill-color);\n",
              "    animation:\n",
              "      spin 1s steps(1) infinite;\n",
              "  }\n",
              "\n",
              "  @keyframes spin {\n",
              "    0% {\n",
              "      border-color: transparent;\n",
              "      border-bottom-color: var(--fill-color);\n",
              "      border-left-color: var(--fill-color);\n",
              "    }\n",
              "    20% {\n",
              "      border-color: transparent;\n",
              "      border-left-color: var(--fill-color);\n",
              "      border-top-color: var(--fill-color);\n",
              "    }\n",
              "    30% {\n",
              "      border-color: transparent;\n",
              "      border-left-color: var(--fill-color);\n",
              "      border-top-color: var(--fill-color);\n",
              "      border-right-color: var(--fill-color);\n",
              "    }\n",
              "    40% {\n",
              "      border-color: transparent;\n",
              "      border-right-color: var(--fill-color);\n",
              "      border-top-color: var(--fill-color);\n",
              "    }\n",
              "    60% {\n",
              "      border-color: transparent;\n",
              "      border-right-color: var(--fill-color);\n",
              "    }\n",
              "    80% {\n",
              "      border-color: transparent;\n",
              "      border-right-color: var(--fill-color);\n",
              "      border-bottom-color: var(--fill-color);\n",
              "    }\n",
              "    90% {\n",
              "      border-color: transparent;\n",
              "      border-bottom-color: var(--fill-color);\n",
              "    }\n",
              "  }\n",
              "</style>\n",
              "\n",
              "  <script>\n",
              "    async function quickchart(key) {\n",
              "      const quickchartButtonEl =\n",
              "        document.querySelector('#' + key + ' button');\n",
              "      quickchartButtonEl.disabled = true;  // To prevent multiple clicks.\n",
              "      quickchartButtonEl.classList.add('colab-df-spinner');\n",
              "      try {\n",
              "        const charts = await google.colab.kernel.invokeFunction(\n",
              "            'suggestCharts', [key], {});\n",
              "      } catch (error) {\n",
              "        console.error('Error during call to suggestCharts:', error);\n",
              "      }\n",
              "      quickchartButtonEl.classList.remove('colab-df-spinner');\n",
              "      quickchartButtonEl.classList.add('colab-df-quickchart-complete');\n",
              "    }\n",
              "    (() => {\n",
              "      let quickchartButtonEl =\n",
              "        document.querySelector('#df-cf3b9f85-5d31-4ede-ae48-0b233b0d439a button');\n",
              "      quickchartButtonEl.style.display =\n",
              "        google.colab.kernel.accessAllowed ? 'block' : 'none';\n",
              "    })();\n",
              "  </script>\n",
              "</div>\n",
              "\n",
              "    </div>\n",
              "  </div>\n"
            ],
            "text/plain": [
              "                                              Review  Sentiment\n",
              "0  so there is no way for me to plug it in here i...          0\n",
              "1                        good case  excellent value           1\n",
              "2                             great for the jawbone           1\n",
              "3  tied to charger for conversations lasting more...          0\n",
              "4                                  the mic is great           1"
            ]
          },
          "execution_count": 141,
          "metadata": {},
          "output_type": "execute_result"
        }
      ],
      "source": [
        "# verify punctuation and irregular characters have been removed\n",
        "cleaned_df.head()"
      ]
    },
    {
      "cell_type": "code",
      "execution_count": 142,
      "metadata": {
        "colab": {
          "base_uri": "https://localhost:8080/"
        },
        "id": "Dneg_HpLCXMw",
        "outputId": "4114d3be-aeaa-4e8c-c965-274f95026864"
      },
      "outputs": [
        {
          "name": "stdout",
          "output_type": "stream",
          "text": [
            "['s', 'o', ' ', 't', 'h', 'e', 'r', 'i', 'n', 'w', 'a', 'y', 'f', 'm', 'p', 'l', 'u', 'g', 'b', 'c', 'v', 'd', 'x', 'j', 'z', 'q', 'k']\n",
            "Final Character Count:  27\n"
          ]
        }
      ],
      "source": [
        "# check final character count of data after removing irregular characters and punctuation (should be 52)\n",
        "reviews_clean=cleaned_df[\"Review\"]\n",
        "list_of_chars_clean = []\n",
        "for review in reviews_clean:\n",
        "  for character in review:\n",
        "    if character not in list_of_chars_clean:\n",
        "      list_of_chars_clean.append(character)\n",
        "print(list_of_chars_clean)\n",
        "print(\"Final Character Count: \", len(list_of_chars_clean))"
      ]
    },
    {
      "cell_type": "markdown",
      "metadata": {
        "id": "v51jAWmaJEUu"
      },
      "source": [
        "##### Initial Vocabulary Size"
      ]
    },
    {
      "cell_type": "code",
      "execution_count": 143,
      "metadata": {
        "colab": {
          "base_uri": "https://localhost:8080/"
        },
        "id": "LK-C_e3AJGHC",
        "outputId": "df055606-7853-4ad2-9b5b-033af1abc797"
      },
      "outputs": [
        {
          "name": "stdout",
          "output_type": "stream",
          "text": [
            "Vocabulary Size:  5092\n"
          ]
        }
      ],
      "source": [
        "tokenizer = Tokenizer()\n",
        "tokenizer.fit_on_texts(cleaned_df[\"Review\"])\n",
        "vocab_size=len(tokenizer.word_index)+1\n",
        "print(\"Vocabulary Size: \", vocab_size)"
      ]
    },
    {
      "cell_type": "markdown",
      "metadata": {
        "id": "WZhvUgxXCXMx"
      },
      "source": [
        "##### *Tokenization*, Removal of Stop Words and *Lemmetization*"
      ]
    },
    {
      "cell_type": "code",
      "execution_count": 144,
      "metadata": {
        "colab": {
          "base_uri": "https://localhost:8080/"
        },
        "id": "-oaWq2VSCXMx",
        "outputId": "4ad8291e-98ab-4dc1-9484-14c4e09c355b"
      },
      "outputs": [
        {
          "name": "stdout",
          "output_type": "stream",
          "text": [
            "{'to', 'them', \"she's\", 'over', 'below', 'above', 'as', 'didn', 'me', 'under', 'wasn', 'we', 'during', \"wasn't\", \"they'll\", 'an', 'for', \"mightn't\", 'weren', 'these', 'will', 'him', 'yourselves', 've', 'no', \"needn't\", 'wouldn', 'needn', 'too', 'aren', 'doing', 'shan', 'they', 're', 'hers', 'so', \"i'm\", 'how', 'not', 'than', 'of', 'd', 'o', 'my', 'itself', 'against', 'don', 'where', 'off', 'themselves', \"you've\", 'all', 'such', 'while', \"she'll\", 'shouldn', 'between', \"he'd\", \"it'll\", 'who', \"couldn't\", 'each', \"we're\", 'have', 'he', 't', \"they'd\", \"doesn't\", 'is', \"mustn't\", 'after', 'should', \"you're\", 'do', 'few', 'whom', \"won't\", 'ourselves', 'his', \"it'd\", 'mustn', \"he's\", \"shan't\", \"she'd\", 'y', \"hasn't\", 'about', \"we'd\", 'further', 'himself', 'very', 'll', 'out', \"he'll\", 'couldn', 'can', 'some', 'are', 'when', \"haven't\", 'its', 'be', 'won', \"shouldn't\", \"hadn't\", 'ma', \"don't\", 'having', 'now', 'she', 'm', 'here', 'that', 'the', 'into', 'or', 'but', 'from', 'hasn', \"i've\", 'did', 'in', 'on', 'does', 'ours', 'mightn', 'ain', 'because', \"weren't\", 'why', 'more', \"didn't\", 'just', \"that'll\", 'their', 'hadn', 'you', 'doesn', 'it', 'was', \"isn't\", 's', 'this', \"you'll\", 'most', 'up', 'which', \"should've\", 'then', 'i', 'any', 'those', 'until', 'being', 'again', 'once', 'were', 'myself', 'there', 'down', 'yourself', 'through', 'at', 'same', 'your', 'been', 'has', \"wouldn't\", 'isn', 'haven', 'am', \"i'd\", 'own', \"it's\", \"we'll\", 'nor', 'our', 'theirs', \"you'd\", 'yours', 'if', 'and', 'her', 'had', 'by', 'both', 'other', \"they're\", 'a', \"aren't\", \"i'll\", 'only', 'herself', \"they've\", \"we've\", 'before', 'with', 'what'}\n"
          ]
        }
      ],
      "source": [
        "# define stop words\n",
        "stop_words = set(stopwords.words(\"english\"))\n",
        "print(stop_words)"
      ]
    },
    {
      "cell_type": "code",
      "execution_count": 145,
      "metadata": {
        "id": "5CPSLNWQydtB"
      },
      "outputs": [],
      "source": [
        "# define function to tokenize, remove stopwords and lemmetize the data\n",
        "description_list=[]\n",
        "def clean_reviews(review):\n",
        "\n",
        "\n",
        "# tokenize\n",
        "  review = nltk.word_tokenize(review)\n",
        "\n",
        "# remove stopwords\n",
        "  review = [word for word in review if not word in stop_words]\n",
        "  description_list.append(review)\n",
        "\n",
        "# lemmetize\n",
        "  lemma=nltk.WordNetLemmatizer()\n",
        "  review = [lemma.lemmatize(word) for word in review]\n",
        "\n",
        "  return review\n"
      ]
    },
    {
      "cell_type": "code",
      "execution_count": 146,
      "metadata": {
        "id": "tBq7men7yvSj"
      },
      "outputs": [],
      "source": [
        "# apply function to data to tokenize, remove stop words and lemmetize the data\n",
        "cleaned_df[\"Review\"] = cleaned_df[\"Review\"].apply(clean_reviews)"
      ]
    },
    {
      "cell_type": "code",
      "execution_count": 147,
      "metadata": {
        "colab": {
          "base_uri": "https://localhost:8080/",
          "height": 359
        },
        "id": "JDBfJrXQzPk_",
        "outputId": "2f53c7b9-fd2c-4ecc-b9c3-0212c7302743"
      },
      "outputs": [
        {
          "data": {
            "application/vnd.google.colaboratory.intrinsic+json": {
              "summary": "{\n  \"name\": \"cleaned_df\",\n  \"rows\": 3000,\n  \"fields\": [\n    {\n      \"column\": \"Review\",\n      \"properties\": {\n        \"dtype\": \"object\",\n        \"semantic_type\": \"\",\n        \"description\": \"\"\n      }\n    },\n    {\n      \"column\": \"Sentiment\",\n      \"properties\": {\n        \"dtype\": \"number\",\n        \"std\": 0,\n        \"min\": 0,\n        \"max\": 1,\n        \"num_unique_values\": 2,\n        \"samples\": [\n          1,\n          0\n        ],\n        \"semantic_type\": \"\",\n        \"description\": \"\"\n      }\n    }\n  ]\n}",
              "type": "dataframe",
              "variable_name": "cleaned_df"
            },
            "text/html": [
              "\n",
              "  <div id=\"df-cee24877-43f7-476a-8b0d-6a328b6401eb\" class=\"colab-df-container\">\n",
              "    <div>\n",
              "<style scoped>\n",
              "    .dataframe tbody tr th:only-of-type {\n",
              "        vertical-align: middle;\n",
              "    }\n",
              "\n",
              "    .dataframe tbody tr th {\n",
              "        vertical-align: top;\n",
              "    }\n",
              "\n",
              "    .dataframe thead th {\n",
              "        text-align: right;\n",
              "    }\n",
              "</style>\n",
              "<table border=\"1\" class=\"dataframe\">\n",
              "  <thead>\n",
              "    <tr style=\"text-align: right;\">\n",
              "      <th></th>\n",
              "      <th>Review</th>\n",
              "      <th>Sentiment</th>\n",
              "    </tr>\n",
              "  </thead>\n",
              "  <tbody>\n",
              "    <tr>\n",
              "      <th>0</th>\n",
              "      <td>[way, plug, u, unless, go, converter]</td>\n",
              "      <td>0</td>\n",
              "    </tr>\n",
              "    <tr>\n",
              "      <th>1</th>\n",
              "      <td>[good, case, excellent, value]</td>\n",
              "      <td>1</td>\n",
              "    </tr>\n",
              "    <tr>\n",
              "      <th>2</th>\n",
              "      <td>[great, jawbone]</td>\n",
              "      <td>1</td>\n",
              "    </tr>\n",
              "    <tr>\n",
              "      <th>3</th>\n",
              "      <td>[tied, charger, conversation, lasting, minute,...</td>\n",
              "      <td>0</td>\n",
              "    </tr>\n",
              "    <tr>\n",
              "      <th>4</th>\n",
              "      <td>[mic, great]</td>\n",
              "      <td>1</td>\n",
              "    </tr>\n",
              "    <tr>\n",
              "      <th>5</th>\n",
              "      <td>[jiggle, plug, get, line, right, get, decent, ...</td>\n",
              "      <td>0</td>\n",
              "    </tr>\n",
              "    <tr>\n",
              "      <th>6</th>\n",
              "      <td>[several, dozen, several, hundred, contact, im...</td>\n",
              "      <td>0</td>\n",
              "    </tr>\n",
              "    <tr>\n",
              "      <th>7</th>\n",
              "      <td>[razr, owner, must]</td>\n",
              "      <td>1</td>\n",
              "    </tr>\n",
              "    <tr>\n",
              "      <th>8</th>\n",
              "      <td>[needless, say, wasted, money]</td>\n",
              "      <td>0</td>\n",
              "    </tr>\n",
              "    <tr>\n",
              "      <th>9</th>\n",
              "      <td>[waste, money, time]</td>\n",
              "      <td>0</td>\n",
              "    </tr>\n",
              "  </tbody>\n",
              "</table>\n",
              "</div>\n",
              "    <div class=\"colab-df-buttons\">\n",
              "\n",
              "  <div class=\"colab-df-container\">\n",
              "    <button class=\"colab-df-convert\" onclick=\"convertToInteractive('df-cee24877-43f7-476a-8b0d-6a328b6401eb')\"\n",
              "            title=\"Convert this dataframe to an interactive table.\"\n",
              "            style=\"display:none;\">\n",
              "\n",
              "  <svg xmlns=\"http://www.w3.org/2000/svg\" height=\"24px\" viewBox=\"0 -960 960 960\">\n",
              "    <path d=\"M120-120v-720h720v720H120Zm60-500h600v-160H180v160Zm220 220h160v-160H400v160Zm0 220h160v-160H400v160ZM180-400h160v-160H180v160Zm440 0h160v-160H620v160ZM180-180h160v-160H180v160Zm440 0h160v-160H620v160Z\"/>\n",
              "  </svg>\n",
              "    </button>\n",
              "\n",
              "  <style>\n",
              "    .colab-df-container {\n",
              "      display:flex;\n",
              "      gap: 12px;\n",
              "    }\n",
              "\n",
              "    .colab-df-convert {\n",
              "      background-color: #E8F0FE;\n",
              "      border: none;\n",
              "      border-radius: 50%;\n",
              "      cursor: pointer;\n",
              "      display: none;\n",
              "      fill: #1967D2;\n",
              "      height: 32px;\n",
              "      padding: 0 0 0 0;\n",
              "      width: 32px;\n",
              "    }\n",
              "\n",
              "    .colab-df-convert:hover {\n",
              "      background-color: #E2EBFA;\n",
              "      box-shadow: 0px 1px 2px rgba(60, 64, 67, 0.3), 0px 1px 3px 1px rgba(60, 64, 67, 0.15);\n",
              "      fill: #174EA6;\n",
              "    }\n",
              "\n",
              "    .colab-df-buttons div {\n",
              "      margin-bottom: 4px;\n",
              "    }\n",
              "\n",
              "    [theme=dark] .colab-df-convert {\n",
              "      background-color: #3B4455;\n",
              "      fill: #D2E3FC;\n",
              "    }\n",
              "\n",
              "    [theme=dark] .colab-df-convert:hover {\n",
              "      background-color: #434B5C;\n",
              "      box-shadow: 0px 1px 3px 1px rgba(0, 0, 0, 0.15);\n",
              "      filter: drop-shadow(0px 1px 2px rgba(0, 0, 0, 0.3));\n",
              "      fill: #FFFFFF;\n",
              "    }\n",
              "  </style>\n",
              "\n",
              "    <script>\n",
              "      const buttonEl =\n",
              "        document.querySelector('#df-cee24877-43f7-476a-8b0d-6a328b6401eb button.colab-df-convert');\n",
              "      buttonEl.style.display =\n",
              "        google.colab.kernel.accessAllowed ? 'block' : 'none';\n",
              "\n",
              "      async function convertToInteractive(key) {\n",
              "        const element = document.querySelector('#df-cee24877-43f7-476a-8b0d-6a328b6401eb');\n",
              "        const dataTable =\n",
              "          await google.colab.kernel.invokeFunction('convertToInteractive',\n",
              "                                                    [key], {});\n",
              "        if (!dataTable) return;\n",
              "\n",
              "        const docLinkHtml = 'Like what you see? Visit the ' +\n",
              "          '<a target=\"_blank\" href=https://colab.research.google.com/notebooks/data_table.ipynb>data table notebook</a>'\n",
              "          + ' to learn more about interactive tables.';\n",
              "        element.innerHTML = '';\n",
              "        dataTable['output_type'] = 'display_data';\n",
              "        await google.colab.output.renderOutput(dataTable, element);\n",
              "        const docLink = document.createElement('div');\n",
              "        docLink.innerHTML = docLinkHtml;\n",
              "        element.appendChild(docLink);\n",
              "      }\n",
              "    </script>\n",
              "  </div>\n",
              "\n",
              "\n",
              "<div id=\"df-18dcd40b-d5cc-41fd-b130-bbedd9bd046b\">\n",
              "  <button class=\"colab-df-quickchart\" onclick=\"quickchart('df-18dcd40b-d5cc-41fd-b130-bbedd9bd046b')\"\n",
              "            title=\"Suggest charts\"\n",
              "            style=\"display:none;\">\n",
              "\n",
              "<svg xmlns=\"http://www.w3.org/2000/svg\" height=\"24px\"viewBox=\"0 0 24 24\"\n",
              "     width=\"24px\">\n",
              "    <g>\n",
              "        <path d=\"M19 3H5c-1.1 0-2 .9-2 2v14c0 1.1.9 2 2 2h14c1.1 0 2-.9 2-2V5c0-1.1-.9-2-2-2zM9 17H7v-7h2v7zm4 0h-2V7h2v10zm4 0h-2v-4h2v4z\"/>\n",
              "    </g>\n",
              "</svg>\n",
              "  </button>\n",
              "\n",
              "<style>\n",
              "  .colab-df-quickchart {\n",
              "      --bg-color: #E8F0FE;\n",
              "      --fill-color: #1967D2;\n",
              "      --hover-bg-color: #E2EBFA;\n",
              "      --hover-fill-color: #174EA6;\n",
              "      --disabled-fill-color: #AAA;\n",
              "      --disabled-bg-color: #DDD;\n",
              "  }\n",
              "\n",
              "  [theme=dark] .colab-df-quickchart {\n",
              "      --bg-color: #3B4455;\n",
              "      --fill-color: #D2E3FC;\n",
              "      --hover-bg-color: #434B5C;\n",
              "      --hover-fill-color: #FFFFFF;\n",
              "      --disabled-bg-color: #3B4455;\n",
              "      --disabled-fill-color: #666;\n",
              "  }\n",
              "\n",
              "  .colab-df-quickchart {\n",
              "    background-color: var(--bg-color);\n",
              "    border: none;\n",
              "    border-radius: 50%;\n",
              "    cursor: pointer;\n",
              "    display: none;\n",
              "    fill: var(--fill-color);\n",
              "    height: 32px;\n",
              "    padding: 0;\n",
              "    width: 32px;\n",
              "  }\n",
              "\n",
              "  .colab-df-quickchart:hover {\n",
              "    background-color: var(--hover-bg-color);\n",
              "    box-shadow: 0 1px 2px rgba(60, 64, 67, 0.3), 0 1px 3px 1px rgba(60, 64, 67, 0.15);\n",
              "    fill: var(--button-hover-fill-color);\n",
              "  }\n",
              "\n",
              "  .colab-df-quickchart-complete:disabled,\n",
              "  .colab-df-quickchart-complete:disabled:hover {\n",
              "    background-color: var(--disabled-bg-color);\n",
              "    fill: var(--disabled-fill-color);\n",
              "    box-shadow: none;\n",
              "  }\n",
              "\n",
              "  .colab-df-spinner {\n",
              "    border: 2px solid var(--fill-color);\n",
              "    border-color: transparent;\n",
              "    border-bottom-color: var(--fill-color);\n",
              "    animation:\n",
              "      spin 1s steps(1) infinite;\n",
              "  }\n",
              "\n",
              "  @keyframes spin {\n",
              "    0% {\n",
              "      border-color: transparent;\n",
              "      border-bottom-color: var(--fill-color);\n",
              "      border-left-color: var(--fill-color);\n",
              "    }\n",
              "    20% {\n",
              "      border-color: transparent;\n",
              "      border-left-color: var(--fill-color);\n",
              "      border-top-color: var(--fill-color);\n",
              "    }\n",
              "    30% {\n",
              "      border-color: transparent;\n",
              "      border-left-color: var(--fill-color);\n",
              "      border-top-color: var(--fill-color);\n",
              "      border-right-color: var(--fill-color);\n",
              "    }\n",
              "    40% {\n",
              "      border-color: transparent;\n",
              "      border-right-color: var(--fill-color);\n",
              "      border-top-color: var(--fill-color);\n",
              "    }\n",
              "    60% {\n",
              "      border-color: transparent;\n",
              "      border-right-color: var(--fill-color);\n",
              "    }\n",
              "    80% {\n",
              "      border-color: transparent;\n",
              "      border-right-color: var(--fill-color);\n",
              "      border-bottom-color: var(--fill-color);\n",
              "    }\n",
              "    90% {\n",
              "      border-color: transparent;\n",
              "      border-bottom-color: var(--fill-color);\n",
              "    }\n",
              "  }\n",
              "</style>\n",
              "\n",
              "  <script>\n",
              "    async function quickchart(key) {\n",
              "      const quickchartButtonEl =\n",
              "        document.querySelector('#' + key + ' button');\n",
              "      quickchartButtonEl.disabled = true;  // To prevent multiple clicks.\n",
              "      quickchartButtonEl.classList.add('colab-df-spinner');\n",
              "      try {\n",
              "        const charts = await google.colab.kernel.invokeFunction(\n",
              "            'suggestCharts', [key], {});\n",
              "      } catch (error) {\n",
              "        console.error('Error during call to suggestCharts:', error);\n",
              "      }\n",
              "      quickchartButtonEl.classList.remove('colab-df-spinner');\n",
              "      quickchartButtonEl.classList.add('colab-df-quickchart-complete');\n",
              "    }\n",
              "    (() => {\n",
              "      let quickchartButtonEl =\n",
              "        document.querySelector('#df-18dcd40b-d5cc-41fd-b130-bbedd9bd046b button');\n",
              "      quickchartButtonEl.style.display =\n",
              "        google.colab.kernel.accessAllowed ? 'block' : 'none';\n",
              "    })();\n",
              "  </script>\n",
              "</div>\n",
              "\n",
              "    </div>\n",
              "  </div>\n"
            ],
            "text/plain": [
              "                                              Review  Sentiment\n",
              "0              [way, plug, u, unless, go, converter]          0\n",
              "1                     [good, case, excellent, value]          1\n",
              "2                                   [great, jawbone]          1\n",
              "3  [tied, charger, conversation, lasting, minute,...          0\n",
              "4                                       [mic, great]          1\n",
              "5  [jiggle, plug, get, line, right, get, decent, ...          0\n",
              "6  [several, dozen, several, hundred, contact, im...          0\n",
              "7                                [razr, owner, must]          1\n",
              "8                     [needless, say, wasted, money]          0\n",
              "9                               [waste, money, time]          0"
            ]
          },
          "execution_count": 147,
          "metadata": {},
          "output_type": "execute_result"
        }
      ],
      "source": [
        "# view processed df\n",
        "cleaned_df.head(10)"
      ]
    },
    {
      "cell_type": "markdown",
      "metadata": {
        "id": "08YxByYQCXMx"
      },
      "source": [
        "##### Vocabulary Size After Removing Stop Words"
      ]
    },
    {
      "cell_type": "code",
      "execution_count": 148,
      "metadata": {
        "colab": {
          "base_uri": "https://localhost:8080/"
        },
        "id": "XIs30pFiyAdJ",
        "outputId": "fc69fb35-9df6-4bf0-a466-21b19db3162c"
      },
      "outputs": [
        {
          "name": "stdout",
          "output_type": "stream",
          "text": [
            "Vocabulary Size:  4559\n"
          ]
        }
      ],
      "source": [
        "# identify final vocabulary size after tokenization, removing stop words and lemmetization\n",
        "tokenizer = Tokenizer()\n",
        "tokenizer.fit_on_texts(cleaned_df[\"Review\"])\n",
        "vocab_size=len(tokenizer.word_index)+1\n",
        "print(\"Vocabulary Size: \", vocab_size)"
      ]
    },
    {
      "cell_type": "markdown",
      "metadata": {
        "id": "s8EoTqKxCXMx"
      },
      "source": [
        "##### Vectorization"
      ]
    },
    {
      "cell_type": "code",
      "execution_count": 149,
      "metadata": {
        "id": "jldvfyUf0EnB"
      },
      "outputs": [],
      "source": [
        "# vectorize/ convert text data to sequences\n",
        "sequences = tokenizer.texts_to_sequences(cleaned_df[\"Review\"])"
      ]
    },
    {
      "cell_type": "code",
      "execution_count": 150,
      "metadata": {
        "colab": {
          "base_uri": "https://localhost:8080/"
        },
        "id": "3hYAL7hl0G91",
        "outputId": "1f1e1856-c92f-4ef4-91d0-a18630295c67"
      },
      "outputs": [
        {
          "data": {
            "text/plain": [
              "[1, 56, 31, 304]"
            ]
          },
          "execution_count": 150,
          "metadata": {},
          "output_type": "execute_result"
        }
      ],
      "source": [
        "# view example of vectorized data\n",
        "sequences[1]"
      ]
    },
    {
      "cell_type": "markdown",
      "metadata": {
        "id": "rwS9Y4FoJ9eH"
      },
      "source": [
        "##### Calculate Word Embedding Length Using Vocab Size"
      ]
    },
    {
      "cell_type": "code",
      "execution_count": 151,
      "metadata": {
        "colab": {
          "base_uri": "https://localhost:8080/"
        },
        "id": "mYikil2NKDXr",
        "outputId": "80aea5e2-49fc-435b-dba8-b54d835bab9a"
      },
      "outputs": [
        {
          "name": "stdout",
          "output_type": "stream",
          "text": [
            "Calculated Word Embedding Length: 8\n"
          ]
        }
      ],
      "source": [
        "# calculate embedding length\n",
        "calculated_embedding_length = int(round(np.sqrt(np.sqrt(vocab_size)), 0))\n",
        "print(\"Calculated Word Embedding Length:\", calculated_embedding_length)"
      ]
    },
    {
      "cell_type": "markdown",
      "metadata": {
        "id": "6uNaXakLCXMx"
      },
      "source": [
        "##### Find Maximum Sequence Length"
      ]
    },
    {
      "cell_type": "code",
      "execution_count": 152,
      "metadata": {
        "colab": {
          "base_uri": "https://localhost:8080/"
        },
        "id": "1v3vu4aL5PAW",
        "outputId": "bb2eb9fb-9eca-4ce1-eec6-fb103be94d05"
      },
      "outputs": [
        {
          "name": "stdout",
          "output_type": "stream",
          "text": [
            "Minimum Review Length:  0\n",
            "Median Review Length:  5.0\n",
            "Maximum Review Length:  44\n"
          ]
        }
      ],
      "source": [
        "# identify minimum, maximum and median length of reviews after cleaning and vectorization\n",
        "seq_len = [len(seq) for seq in sequences]\n",
        "\n",
        "min_length = min(seq_len)\n",
        "median_length = np.median(seq_len)\n",
        "max_length = max(seq_len)\n",
        "\n",
        "print(\"Minimum Review Length: \", min_length)\n",
        "print(\"Median Review Length: \", median_length)\n",
        "print(\"Maximum Review Length: \", max_length)"
      ]
    },
    {
      "cell_type": "markdown",
      "metadata": {
        "id": "f3smLg_IJ_bk"
      },
      "source": [
        "##### Padding"
      ]
    },
    {
      "cell_type": "code",
      "execution_count": 153,
      "metadata": {
        "id": "wL7_Rkm20VgS"
      },
      "outputs": [],
      "source": [
        "# pad the data to maximum review length (type=post)\n",
        "padded_sequences = pad_sequences(sequences, maxlen=max_length, padding=\"post\")"
      ]
    },
    {
      "cell_type": "code",
      "execution_count": 154,
      "metadata": {
        "colab": {
          "base_uri": "https://localhost:8080/"
        },
        "id": "XJAxOisB0axC",
        "outputId": "00324d72-9e59-4cd8-edd9-d01203dd874d"
      },
      "outputs": [
        {
          "data": {
            "text/plain": [
              "array([  1,  56,  31, 304,   0,   0,   0,   0,   0,   0,   0,   0,   0,\n",
              "         0,   0,   0,   0,   0,   0,   0,   0,   0,   0,   0,   0,   0,\n",
              "         0,   0,   0,   0,   0,   0,   0,   0,   0,   0,   0,   0,   0,\n",
              "         0,   0,   0,   0,   0], dtype=int32)"
            ]
          },
          "execution_count": 154,
          "metadata": {},
          "output_type": "execute_result"
        }
      ],
      "source": [
        "# example of padded data\n",
        "padded_sequences[1]"
      ]
    },
    {
      "cell_type": "code",
      "execution_count": 156,
      "metadata": {
        "colab": {
          "base_uri": "https://localhost:8080/"
        },
        "id": "ktIrnyD8aBpk",
        "outputId": "e1f34fe1-97fc-4aff-92ce-34e115581bad"
      },
      "outputs": [
        {
          "data": {
            "text/plain": [
              "(3000, 44)"
            ]
          },
          "execution_count": 156,
          "metadata": {},
          "output_type": "execute_result"
        }
      ],
      "source": [
        "padded_sequences.shape"
      ]
    },
    {
      "cell_type": "markdown",
      "metadata": {
        "id": "OEBBDW-rCXMy"
      },
      "source": [
        "##### Split Data into Train and Test Data Sets"
      ]
    },
    {
      "cell_type": "code",
      "execution_count": 157,
      "metadata": {
        "id": "9p9h8s5J1iuS"
      },
      "outputs": [],
      "source": [
        "# split vectorized and padded data sets into training and test sets\n",
        "x_train, x_test, y_train, y_test = train_test_split(padded_sequences, cleaned_df.Sentiment, test_size=0.2, random_state=6)\n"
      ]
    },
    {
      "cell_type": "code",
      "execution_count": 158,
      "metadata": {
        "id": "QmoQ58mKls6P"
      },
      "outputs": [],
      "source": [
        "# split original non vectorized data set\n",
        "x_train_original, x_test_original, y_train_original, y_test_original = train_test_split(combined_df.Review, combined_df.Sentiment, test_size=0.2, random_state=6)"
      ]
    },
    {
      "cell_type": "code",
      "execution_count": 159,
      "metadata": {
        "id": "KbWXWOAtYp0W"
      },
      "outputs": [],
      "source": [
        "x_train = x_train.astype('float32') # Convert x_train to float32\n",
        "\n",
        "y_train = y_train.astype('float32') # Convert y_train to float32"
      ]
    },
    {
      "cell_type": "markdown",
      "metadata": {
        "id": "A2EPoK0OCXMy"
      },
      "source": [
        "##### Export Processed Data"
      ]
    },
    {
      "cell_type": "code",
      "execution_count": 160,
      "metadata": {
        "id": "juourAXJ2Fwy"
      },
      "outputs": [],
      "source": [
        "# save processed data to csv file\n",
        "pd.DataFrame(x_train).to_csv(\"x_train.csv\")\n",
        "pd.DataFrame(x_test).to_csv(\"x_test.csv\")\n",
        "pd.DataFrame(y_train).to_csv(\"y_train.csv\")\n",
        "pd.DataFrame(y_test).to_csv(\"y_test.csv\")"
      ]
    },
    {
      "cell_type": "markdown",
      "metadata": {
        "id": "IUfv5HoogH4N"
      },
      "source": [
        "### C1. Model Summary\n"
      ]
    },
    {
      "cell_type": "code",
      "execution_count": 161,
      "metadata": {
        "id": "SD-EENf16xZ1"
      },
      "outputs": [],
      "source": [
        "# define model\n",
        "model = tf.keras.Sequential([\n",
        "    tf.keras.layers.Embedding(vocab_size, 100, input_length=max_length),\n",
        "    tf.keras.layers.Dense(100, activation=\"relu\"),\n",
        "    tf.keras.layers.Dense(50, activation=\"relu\"),\n",
        "    tf.keras.layers.GlobalAveragePooling1D(),\n",
        "    tf.keras.layers.Dense(1, activation=\"sigmoid\")\n",
        "])"
      ]
    },
    {
      "cell_type": "code",
      "execution_count": 162,
      "metadata": {
        "id": "9PJWupYrR_to"
      },
      "outputs": [],
      "source": [
        "# compile model\n",
        "model.compile(optimizer=\"adam\", loss=\"binary_crossentropy\", metrics=[\"accuracy\"])\n"
      ]
    },
    {
      "cell_type": "markdown",
      "metadata": {
        "id": "vZ9j5-IA_3_1"
      },
      "source": [
        "##### Stopping Criteria"
      ]
    },
    {
      "cell_type": "code",
      "execution_count": 163,
      "metadata": {
        "colab": {
          "base_uri": "https://localhost:8080/"
        },
        "id": "r-rZ4NJ9Sy9C",
        "outputId": "419aefa0-ba2d-400e-be58-ac7aefa28acd"
      },
      "outputs": [
        {
          "name": "stdout",
          "output_type": "stream",
          "text": [
            "Epoch 1/20\n",
            "\u001b[1m60/60\u001b[0m \u001b[32m━━━━━━━━━━━━━━━━━━━━\u001b[0m\u001b[37m\u001b[0m \u001b[1m2s\u001b[0m 9ms/step - accuracy: 0.5177 - loss: 0.6931 - val_accuracy: 0.5333 - val_loss: 0.6895\n",
            "Epoch 2/20\n",
            "\u001b[1m60/60\u001b[0m \u001b[32m━━━━━━━━━━━━━━━━━━━━\u001b[0m\u001b[37m\u001b[0m \u001b[1m1s\u001b[0m 8ms/step - accuracy: 0.6641 - loss: 0.6752 - val_accuracy: 0.7458 - val_loss: 0.5854\n",
            "Epoch 3/20\n",
            "\u001b[1m60/60\u001b[0m \u001b[32m━━━━━━━━━━━━━━━━━━━━\u001b[0m\u001b[37m\u001b[0m \u001b[1m0s\u001b[0m 7ms/step - accuracy: 0.8541 - loss: 0.4617 - val_accuracy: 0.7812 - val_loss: 0.4503\n",
            "Epoch 4/20\n",
            "\u001b[1m60/60\u001b[0m \u001b[32m━━━━━━━━━━━━━━━━━━━━\u001b[0m\u001b[37m\u001b[0m \u001b[1m1s\u001b[0m 7ms/step - accuracy: 0.9083 - loss: 0.2413 - val_accuracy: 0.8021 - val_loss: 0.4580\n",
            "Epoch 5/20\n",
            "\u001b[1m60/60\u001b[0m \u001b[32m━━━━━━━━━━━━━━━━━━━━\u001b[0m\u001b[37m\u001b[0m \u001b[1m1s\u001b[0m 7ms/step - accuracy: 0.9437 - loss: 0.1611 - val_accuracy: 0.7917 - val_loss: 0.4977\n"
          ]
        }
      ],
      "source": [
        "# early stopping criteria\n",
        "early_stopper = EarlyStopping(patience = 2)\n",
        "\n",
        "# fit model\n",
        "history = model.fit(x_train, y_train, batch_size=32, validation_split=0.2, epochs=20, callbacks=[early_stopper])"
      ]
    },
    {
      "cell_type": "markdown",
      "metadata": {
        "id": "63gQMEFi5diR"
      },
      "source": [
        "##### Model Summary Function"
      ]
    },
    {
      "cell_type": "code",
      "execution_count": 164,
      "metadata": {
        "colab": {
          "base_uri": "https://localhost:8080/",
          "height": 321
        },
        "id": "GNMuQDbDXpcu",
        "outputId": "5f2a26a0-eb6c-4c57-a01f-b3331bc83efa"
      },
      "outputs": [
        {
          "data": {
            "text/html": [
              "<pre style=\"white-space:pre;overflow-x:auto;line-height:normal;font-family:Menlo,'DejaVu Sans Mono',consolas,'Courier New',monospace\"><span style=\"font-weight: bold\">Model: \"sequential_7\"</span>\n",
              "</pre>\n"
            ],
            "text/plain": [
              "\u001b[1mModel: \"sequential_7\"\u001b[0m\n"
            ]
          },
          "metadata": {},
          "output_type": "display_data"
        },
        {
          "data": {
            "text/html": [
              "<pre style=\"white-space:pre;overflow-x:auto;line-height:normal;font-family:Menlo,'DejaVu Sans Mono',consolas,'Courier New',monospace\">┏━━━━━━━━━━━━━━━━━━━━━━━━━━━━━━━━━━━━━━┳━━━━━━━━━━━━━━━━━━━━━━━━━━━━━┳━━━━━━━━━━━━━━━━━┓\n",
              "┃<span style=\"font-weight: bold\"> Layer (type)                         </span>┃<span style=\"font-weight: bold\"> Output Shape                </span>┃<span style=\"font-weight: bold\">         Param # </span>┃\n",
              "┡━━━━━━━━━━━━━━━━━━━━━━━━━━━━━━━━━━━━━━╇━━━━━━━━━━━━━━━━━━━━━━━━━━━━━╇━━━━━━━━━━━━━━━━━┩\n",
              "│ embedding_7 (<span style=\"color: #0087ff; text-decoration-color: #0087ff\">Embedding</span>)              │ (<span style=\"color: #00af00; text-decoration-color: #00af00\">32</span>, <span style=\"color: #00af00; text-decoration-color: #00af00\">44</span>, <span style=\"color: #00af00; text-decoration-color: #00af00\">100</span>)               │         <span style=\"color: #00af00; text-decoration-color: #00af00\">455,900</span> │\n",
              "├──────────────────────────────────────┼─────────────────────────────┼─────────────────┤\n",
              "│ dense_21 (<span style=\"color: #0087ff; text-decoration-color: #0087ff\">Dense</span>)                     │ (<span style=\"color: #00af00; text-decoration-color: #00af00\">32</span>, <span style=\"color: #00af00; text-decoration-color: #00af00\">44</span>, <span style=\"color: #00af00; text-decoration-color: #00af00\">100</span>)               │          <span style=\"color: #00af00; text-decoration-color: #00af00\">10,100</span> │\n",
              "├──────────────────────────────────────┼─────────────────────────────┼─────────────────┤\n",
              "│ dense_22 (<span style=\"color: #0087ff; text-decoration-color: #0087ff\">Dense</span>)                     │ (<span style=\"color: #00af00; text-decoration-color: #00af00\">32</span>, <span style=\"color: #00af00; text-decoration-color: #00af00\">44</span>, <span style=\"color: #00af00; text-decoration-color: #00af00\">50</span>)                │           <span style=\"color: #00af00; text-decoration-color: #00af00\">5,050</span> │\n",
              "├──────────────────────────────────────┼─────────────────────────────┼─────────────────┤\n",
              "│ global_average_pooling1d_7           │ (<span style=\"color: #00af00; text-decoration-color: #00af00\">32</span>, <span style=\"color: #00af00; text-decoration-color: #00af00\">50</span>)                    │               <span style=\"color: #00af00; text-decoration-color: #00af00\">0</span> │\n",
              "│ (<span style=\"color: #0087ff; text-decoration-color: #0087ff\">GlobalAveragePooling1D</span>)             │                             │                 │\n",
              "├──────────────────────────────────────┼─────────────────────────────┼─────────────────┤\n",
              "│ dense_23 (<span style=\"color: #0087ff; text-decoration-color: #0087ff\">Dense</span>)                     │ (<span style=\"color: #00af00; text-decoration-color: #00af00\">32</span>, <span style=\"color: #00af00; text-decoration-color: #00af00\">1</span>)                     │              <span style=\"color: #00af00; text-decoration-color: #00af00\">51</span> │\n",
              "└──────────────────────────────────────┴─────────────────────────────┴─────────────────┘\n",
              "</pre>\n"
            ],
            "text/plain": [
              "┏━━━━━━━━━━━━━━━━━━━━━━━━━━━━━━━━━━━━━━┳━━━━━━━━━━━━━━━━━━━━━━━━━━━━━┳━━━━━━━━━━━━━━━━━┓\n",
              "┃\u001b[1m \u001b[0m\u001b[1mLayer (type)                        \u001b[0m\u001b[1m \u001b[0m┃\u001b[1m \u001b[0m\u001b[1mOutput Shape               \u001b[0m\u001b[1m \u001b[0m┃\u001b[1m \u001b[0m\u001b[1m        Param #\u001b[0m\u001b[1m \u001b[0m┃\n",
              "┡━━━━━━━━━━━━━━━━━━━━━━━━━━━━━━━━━━━━━━╇━━━━━━━━━━━━━━━━━━━━━━━━━━━━━╇━━━━━━━━━━━━━━━━━┩\n",
              "│ embedding_7 (\u001b[38;5;33mEmbedding\u001b[0m)              │ (\u001b[38;5;34m32\u001b[0m, \u001b[38;5;34m44\u001b[0m, \u001b[38;5;34m100\u001b[0m)               │         \u001b[38;5;34m455,900\u001b[0m │\n",
              "├──────────────────────────────────────┼─────────────────────────────┼─────────────────┤\n",
              "│ dense_21 (\u001b[38;5;33mDense\u001b[0m)                     │ (\u001b[38;5;34m32\u001b[0m, \u001b[38;5;34m44\u001b[0m, \u001b[38;5;34m100\u001b[0m)               │          \u001b[38;5;34m10,100\u001b[0m │\n",
              "├──────────────────────────────────────┼─────────────────────────────┼─────────────────┤\n",
              "│ dense_22 (\u001b[38;5;33mDense\u001b[0m)                     │ (\u001b[38;5;34m32\u001b[0m, \u001b[38;5;34m44\u001b[0m, \u001b[38;5;34m50\u001b[0m)                │           \u001b[38;5;34m5,050\u001b[0m │\n",
              "├──────────────────────────────────────┼─────────────────────────────┼─────────────────┤\n",
              "│ global_average_pooling1d_7           │ (\u001b[38;5;34m32\u001b[0m, \u001b[38;5;34m50\u001b[0m)                    │               \u001b[38;5;34m0\u001b[0m │\n",
              "│ (\u001b[38;5;33mGlobalAveragePooling1D\u001b[0m)             │                             │                 │\n",
              "├──────────────────────────────────────┼─────────────────────────────┼─────────────────┤\n",
              "│ dense_23 (\u001b[38;5;33mDense\u001b[0m)                     │ (\u001b[38;5;34m32\u001b[0m, \u001b[38;5;34m1\u001b[0m)                     │              \u001b[38;5;34m51\u001b[0m │\n",
              "└──────────────────────────────────────┴─────────────────────────────┴─────────────────┘\n"
            ]
          },
          "metadata": {},
          "output_type": "display_data"
        },
        {
          "data": {
            "text/html": [
              "<pre style=\"white-space:pre;overflow-x:auto;line-height:normal;font-family:Menlo,'DejaVu Sans Mono',consolas,'Courier New',monospace\"><span style=\"font-weight: bold\"> Total params: </span><span style=\"color: #00af00; text-decoration-color: #00af00\">1,413,305</span> (5.39 MB)\n",
              "</pre>\n"
            ],
            "text/plain": [
              "\u001b[1m Total params: \u001b[0m\u001b[38;5;34m1,413,305\u001b[0m (5.39 MB)\n"
            ]
          },
          "metadata": {},
          "output_type": "display_data"
        },
        {
          "data": {
            "text/html": [
              "<pre style=\"white-space:pre;overflow-x:auto;line-height:normal;font-family:Menlo,'DejaVu Sans Mono',consolas,'Courier New',monospace\"><span style=\"font-weight: bold\"> Trainable params: </span><span style=\"color: #00af00; text-decoration-color: #00af00\">471,101</span> (1.80 MB)\n",
              "</pre>\n"
            ],
            "text/plain": [
              "\u001b[1m Trainable params: \u001b[0m\u001b[38;5;34m471,101\u001b[0m (1.80 MB)\n"
            ]
          },
          "metadata": {},
          "output_type": "display_data"
        },
        {
          "data": {
            "text/html": [
              "<pre style=\"white-space:pre;overflow-x:auto;line-height:normal;font-family:Menlo,'DejaVu Sans Mono',consolas,'Courier New',monospace\"><span style=\"font-weight: bold\"> Non-trainable params: </span><span style=\"color: #00af00; text-decoration-color: #00af00\">0</span> (0.00 B)\n",
              "</pre>\n"
            ],
            "text/plain": [
              "\u001b[1m Non-trainable params: \u001b[0m\u001b[38;5;34m0\u001b[0m (0.00 B)\n"
            ]
          },
          "metadata": {},
          "output_type": "display_data"
        },
        {
          "data": {
            "text/html": [
              "<pre style=\"white-space:pre;overflow-x:auto;line-height:normal;font-family:Menlo,'DejaVu Sans Mono',consolas,'Courier New',monospace\"><span style=\"font-weight: bold\"> Optimizer params: </span><span style=\"color: #00af00; text-decoration-color: #00af00\">942,204</span> (3.59 MB)\n",
              "</pre>\n"
            ],
            "text/plain": [
              "\u001b[1m Optimizer params: \u001b[0m\u001b[38;5;34m942,204\u001b[0m (3.59 MB)\n"
            ]
          },
          "metadata": {},
          "output_type": "display_data"
        }
      ],
      "source": [
        "# model summary\n",
        "model.summary()"
      ]
    },
    {
      "cell_type": "markdown",
      "metadata": {
        "id": "qE8N0hUsgJfo"
      },
      "source": [
        "### C2. Network Architecture\n",
        "\n",
        "a. *Number and Types of Layers:*\n",
        "\n",
        "There are a total of 5 layers in the neural network. Their types along with the number of parameters are given below;\n",
        "\n",
        "  1. Input Layer: Embedding Layer- 455,900 parameters\n",
        "\n",
        "The input layer of the network is an embedding layer that takes sequenced text as input and feeds it forward to the first hidden layer.\n",
        "\n",
        "  2. Hidden Layer 1: Dense Layer - 10,100 parameters\n",
        "\n",
        "This is the first hidden layer. It is a dense layer with 100 nodes. It receives input from the embedding layer and has a \"relu\" activation function.\n",
        "\n",
        "  3. Hidden Layer 2: Dense Layer - 5,050 parameters\n",
        "\n",
        "This is the second hidden layer with 50 nodes. It is a dense layer which receives input from the previous hidden layer. It also has a \"relu\" activation function.\n",
        "\n",
        "  4. Global Average Pooling Layer -\n",
        "\n",
        "  It is a pooling layer that takes an input dimension of (32, 44, 50) and reduces it to (32, 50). It computes the average output of each feature map of the preceeding layer and reduces its dimensions  to make the model ready for the last classification layer [(Habib, 2022)](#i-sources).\n",
        "\n",
        "  5. Output Layer: Dense Layer -  51 parameters\n",
        "\n",
        "The output layer is a dense layer with only one node. It has a sigmoid activation function that provides an output probability between 0 and 1 which determines the category the review is most likely to belong to.\n",
        "\n",
        "b. *Total Number of Parameters* : 1,413,305\n",
        "\n",
        "  - Trainable parameters: 471,101\n",
        "  \n",
        "  (These are the parameters that are updated during training - e.g. layer weights and biases)\n",
        "  - Non-trainable parameters: 0\n",
        "\n",
        "  (These parameters do not get updated during training.)\n"
      ]
    },
    {
      "cell_type": "markdown",
      "metadata": {
        "id": "xBgCMUyUgLaB"
      },
      "source": [
        "### C3. Hyperparameters\n",
        "\n",
        "1. Activation Functions:\n",
        "\n",
        "Activation functions transform the output from one layer to another.\n",
        "\n",
        "ReLU (Rectified Linear Unit) was selected as the activation function for the hidden layers because it is computationally efficient and avoids the vanishing gradient problem.\n",
        "\n",
        "The sigmoid activation function was selected for the output layer. It was selected because it provides an output value between 0 and 1 which works well with binary classification problems where the output is interpreted as a probability.\n",
        "\n",
        "\n",
        "2. Number of Nodes Per Layer:\n",
        "\n",
        "The number of nodes for the hidden layers was chosen arbitrarily based on the size of the available training data and the nature of the classification problem. The first hidden layer has 100 nodes and the second hdden layer has 50 nodes.\n",
        "\n",
        "The output layer has only one node since this is a binary classification problem requiring an output of either 0 or 1.\n",
        "\n",
        "\n",
        "3. Loss Function\n",
        "\n",
        "The loss function used in the model is binary cross entropy since this is a classification analysis with binary categories of 0 and 1.\n",
        "\n",
        "4. Optimizer:\n",
        "\n",
        "The optimizer used for this analysis is \"adam\" since it is easy to implement, computationally efficient and combines the best aspects of other optimziers. It iteratively adjusts weights and adapts the learning rate thus effectively reducing overfitting.\n",
        "\n",
        "\n",
        "5. Stopping Criteria:\n",
        "\n",
        "Early stopping criteria was used  to prevent the model from overfitting and\n",
        "improving the generalization of the final model. The number of training epochs set for the model is 20. However, with the implementatons of the EarlyStopping() method from keras, the model stops training early if the validation loss does not improve for the given number of epochs. For this analysis, the patience was set to 2.\n",
        "\n",
        "6. Evaluation Metric:\n",
        "\n",
        "The evaluation metric used to determine how well the model classifies customer reviews is accuracy. It is the ratio of the number of correct predictions to the total number of input samples, expressed as a percentage. This metric was selected because it is commonly used and easy to interpret.\n",
        "\n",
        "The accuracies of the training and validation sets in the last epoch were 94.37% and 79.17% repectively.\n",
        "\n"
      ]
    },
    {
      "cell_type": "markdown",
      "metadata": {
        "id": "gb0cqk_pGiAY"
      },
      "source": [
        "### D1. Stopping Criteria\n",
        "\n",
        "Overfitting occurs when a model is fit too closely to the training data and cannot generalise well with new data. An early stopping criteria can be used to prevent it.\n",
        "\n",
        "The stopping criteria used for this analysis was the EarlyStopping() method from tensorflow.keras.callbacks with patience=2. This means that model training will stop if validation loss fails to improve for two continuous epochs.\n",
        "\n",
        "From the training process, it is clear that validation loss decreases from epoch 1 to 2 and 2 to 3. However, the validation loss increases from epoch 3 to 4 and again from epoch 4 to 5. This causes the model to stop training early since the early stopping criteria has been met (even though the number of epochs initially provided was 20). If the model continues training beyond this point, it would only lead to worsening results."
      ]
    },
    {
      "cell_type": "markdown",
      "metadata": {
        "id": "rXLRCP08RoN2"
      },
      "source": [
        "### D2. Fitness\n",
        "\n",
        "Overfitting was prevented when building the model by defining an early stopping criteria with patience of 2. This ensures that the model stops training if validation loss does not improve for 2 consecutive epochs.\n",
        "\n",
        "The fitness of the model was then assessed by visualizing the training and validation accuracies and loss (see next section). From these plots, it is clear that both training and validation accuracies are above 75% at the end of the last training epoch. Further, the training is stopped before validation loss starts to rise for more than 2 epochs. This indicates a good model without any obvious over or underfitting.\n",
        "\n"
      ]
    },
    {
      "cell_type": "markdown",
      "metadata": {
        "id": "zdi8FnZGfy5i"
      },
      "source": [
        "### D3. Training Process\n",
        "\n",
        "The training process of the model is depicted below.\n",
        "\n",
        "Accuracy and loss are plotted for both training and validation sets.\n",
        "Both graphs show the epoch number on the x-axis with accuracy and loss on the y-axis.\n",
        "\n",
        "In the plot for accuracy, both training and validation accuracies increase from epochs 1 to 4. The final training accuracy is higher than the final validation accuracy, but both are above 75%.  \n",
        "\n",
        "In the plot depicting loss, the training loss steadily decreases over all 4 epochs to less than 0.2. However, the validation loss decreases till the second epoch and then increases up to the fourth epoch. This corresponds with the early stopping criteria provided wherein model fitting stops after loss increases for two continuous epochs (patience=2). Hence the training stops at epoch 4 when loss has increased consecutively over the past two epochs.\n",
        "\n",
        "\n"
      ]
    },
    {
      "cell_type": "code",
      "execution_count": 165,
      "metadata": {
        "colab": {
          "base_uri": "https://localhost:8080/",
          "height": 607
        },
        "id": "0Z82ycjiAS6g",
        "outputId": "85366c8f-3970-4c3f-8210-db31b5dc1025"
      },
      "outputs": [
        {
          "data": {
            "image/png": "[encoded data removed]",
            "text/plain": [
              "<Figure size 1500x600 with 2 Axes>"
            ]
          },
          "metadata": {},
          "output_type": "display_data"
        }
      ],
      "source": [
        "# plot accuracy and loss in training and validation sets\n",
        "plt.figure(figsize=(15, 6))\n",
        "plt.subplot(1,2,1)\n",
        "plt.plot(history.history[\"accuracy\"])\n",
        "plt.plot(history.history[\"val_accuracy\"])\n",
        "plt.title(\"Training and Validation Accuracy\")\n",
        "plt.ylabel(\"Accuracy\")\n",
        "plt.xlabel(\"Epoch\")\n",
        "plt.legend([\"Train\", \"Validation\"], loc=\"upper right\")\n",
        "\n",
        "plt.subplot(1,2,2)\n",
        "plt.plot(history.history[\"loss\"])\n",
        "plt.plot(history.history[\"val_loss\"])\n",
        "plt.title(\"Training and Validation Loss\")\n",
        "plt.ylabel(\"Loss\")\n",
        "plt.xlabel(\"Epoch\")\n",
        "plt.legend([\"Train\", \"Validation\"], loc=\"upper right\")\n",
        "\n",
        "plt.tight_layout()\n",
        "plt.show()"
      ]
    },
    {
      "cell_type": "markdown",
      "metadata": {
        "id": "FRVEv0S2ATpl"
      },
      "source": [
        "### D4. Predictive Accuracy\n",
        "\n",
        "Accuracy is the number of correct predictions divided by the total number of predicitons. It is expressed as a percentage. A higher predictive accuracy indicates a better model. For this model,\n",
        "\n",
        "Training Accuracy:  93.58%\n",
        "\n",
        "Test Accuracy:  80.67%\n",
        "\n",
        "The testing accuracy is high indicating a good model. Also, the difference between the two accuracies is less than 15%. This shows that the model is good as per indutry standards since the difference between training and testing accuracies should be between 5%-15%.\n",
        "\n",
        "Loss is the sum of the errors made for each sample in the training and validation sets [(AI Wiki, n.d.)](#i-sources). The loss function used for this model is binary cross entropy since this is a binary classification problem. A lower loss indicates a better model. The loss for the training and test sets are;\n",
        "\n",
        "Training Loss:  0.184542 and Test Loss:  0.515179\n",
        "\n",
        "The loss of the validation set appears to be higher than the training set at the end of epoch 4. This is something that could be improved by training the model on more data.\n"
      ]
    },
    {
      "cell_type": "code",
      "execution_count": 166,
      "metadata": {
        "colab": {
          "base_uri": "https://localhost:8080/"
        },
        "id": "yiKTajKpCTMs",
        "outputId": "44e3a21d-b084-443d-d1ed-a176910c2098"
      },
      "outputs": [
        {
          "name": "stdout",
          "output_type": "stream",
          "text": [
            "\u001b[1m19/19\u001b[0m \u001b[32m━━━━━━━━━━━━━━━━━━━━\u001b[0m\u001b[37m\u001b[0m \u001b[1m0s\u001b[0m 3ms/step \n"
          ]
        }
      ],
      "source": [
        "# perform predictions on test data set\n",
        "predictions = my_model.predict(x_test)"
      ]
    },
    {
      "cell_type": "code",
      "execution_count": 167,
      "metadata": {
        "colab": {
          "base_uri": "https://localhost:8080/"
        },
        "id": "HoxiwJV5CUFH",
        "outputId": "5b131a4e-e1f8-4ae6-8c9d-d42d9c9b4208"
      },
      "outputs": [
        {
          "name": "stdout",
          "output_type": "stream",
          "text": [
            "Review from test data set:  i have had this phone for over a year now, and i will tell you, its not that great.\n",
            "Predicted sentiment:  Positive Review\n",
            "Actual Sentiment:  Negative Review\n"
          ]
        }
      ],
      "source": [
        "# compare predicted sentiment with actual sentiment on test data\n",
        "\n",
        "# select random review from test data set\n",
        "i = 4\n",
        "\n",
        "print(\"Review from test data set: \", x_test_original.iloc[i])\n",
        "print(\"Predicted sentiment: \", \"Positive Review\" if predictions[i][0]>=0.5 else \"Negative Review\")\n",
        "print(\"Actual Sentiment: \", \"Positive Review\" if y_test.iloc[i] == 1 else \"Negative Review\")"
      ]
    },
    {
      "cell_type": "code",
      "execution_count": 168,
      "metadata": {
        "colab": {
          "base_uri": "https://localhost:8080/"
        },
        "id": "C-3Oje36BB7j",
        "outputId": "53098e56-a1d2-472b-a806-e200bcf7776a"
      },
      "outputs": [
        {
          "name": "stdout",
          "output_type": "stream",
          "text": [
            "Training Accuracy:  0.9358333349227905\n",
            "Training Loss:  0.18471390008926392\n"
          ]
        }
      ],
      "source": [
        "# calculate training accuracy and loss\n",
        "training_score = model.evaluate(x_train, y_train, verbose=0)\n",
        "print(\"Training Accuracy: \", training_score[1])\n",
        "print(\"Training Loss: \", training_score[0])"
      ]
    },
    {
      "cell_type": "code",
      "execution_count": 169,
      "metadata": {
        "colab": {
          "base_uri": "https://localhost:8080/"
        },
        "id": "BKqshbymBKPW",
        "outputId": "c8e87f8b-4323-4a41-8cbb-7410a811a115"
      },
      "outputs": [
        {
          "name": "stdout",
          "output_type": "stream",
          "text": [
            "Test Accuracy:  0.8066666722297668\n",
            "Test Loss:  0.509948194026947\n"
          ]
        }
      ],
      "source": [
        "# calculate model accuracy and loss with test data\n",
        "test_score = model.evaluate(x_test, y_test, verbose=0)\n",
        "print(\"Test Accuracy: \", test_score[1])\n",
        "print(\"Test Loss: \", test_score[0])"
      ]
    },
    {
      "cell_type": "markdown",
      "metadata": {
        "id": "b1BEBvhMBvcG"
      },
      "source": [
        "### E. Code to Save Model\n",
        "\n",
        "The code used to save the final trained network is provided below."
      ]
    },
    {
      "cell_type": "code",
      "execution_count": 170,
      "metadata": {
        "id": "rXsPSGBMBvtR"
      },
      "outputs": [],
      "source": [
        "# save model\n",
        "model.save(\"my_model.keras\")"
      ]
    },
    {
      "cell_type": "markdown",
      "metadata": {
        "id": "06kUrJmcfnZX"
      },
      "source": [
        "### F. Functionality\n",
        "\n",
        "This neural network functions as a binary classifer for sentiment analysis of customer reviews. It can be used to categorise customer feedback as either positive (1) or negative(0).\n",
        "The input layer of the network is an embedding layer that takes sequenced text as input and feeds it forward to the first hidden layer. The two hidden layers that come next perform computations on the data. They have 100 and 50 nodes respectively with \"relu\" activation functions. The nodes apply weights to the inputs and the activation functions introduce non-linearity so that the network can perform more complex calculations. The next layer is a pooling layer that reduces the dimensions of the input data. It computes the average output of each feature map of the preceeding layer and reduces its dimensions to make the model ready for the last classification layer [(Habib, 2022)](#i-sources).\n",
        "The last layer is the output layer with only one node. It has a sigmoid activation function that provides an output probability between 0 and 1. This determines which category the review is most likely to belong to.\n",
        "In this way, the neural netowork can take sequenced customer review data and categorise it as positive or negative.\n",
        "\n",
        "\n",
        "### G. Recommendations\n",
        "\n",
        "I was able to answer the initial research question as to whether it is possible to build a neural network that is able to accurately classify a review as positive or negative. Since the testing accuracy of the model is above 75%, it is clear that it is possible to build such a model.\n",
        "\n",
        "This neural network has a high enough test accuracy that it can be used in a real-world environment.\n",
        "Some of the possible applications for this model include customer satisfaction analysis and evaluating feedback on new product launches.\n",
        "I would also recommend collecting more customer review data for model training to improve its predictive accuracy even further.\n"
      ]
    },
    {
      "cell_type": "markdown",
      "metadata": {
        "id": "cZ9Q5CNLfb0s"
      },
      "source": [
        "### H. Reporting\n",
        "\n",
        "This report along with the analysis code has been submitted as a jupyter notbook (.ipynb) and a pdf document."
      ]
    },
    {
      "cell_type": "markdown",
      "metadata": {
        "id": "USIXqVyffaIY"
      },
      "source": [
        "### I. Sources\n",
        "\n",
        "1. Kotzias, D. (2015). *Sentiment Labelled Sentences [Dataset].* UCI Machine Learning Repository.\n",
        "https://doi.org/10.24432/C57604.\n",
        "\n",
        "2. Kwan, Matthew. (26 September 2023). *Finding the optimal number of dimensions for word embeddings.* Medium.\n",
        "https://medium.com/@matti.kwan/finding-the-optimal-number-of-dimensions-for-word-embeddings-f19f71666723#:~:text=In%20other%20words%2C%20what%27s%20the,numbers%20like%20100%20or%20300.\n",
        "\n",
        "3. AI Wiki. (n.d.) *Accuracy and Loss.*\n",
        "https://machine-learning.paperspace.com/wiki/accuracy-and-loss.\n",
        "\n",
        "4. Habib, Gousia. (15 November 2022). *GAPCNN with HyPar: Global Average Pooling convolutional neural network with novel NNLU activation function and HYBRID parallelism.* Frontiers.\n",
        "https://www.frontiersin.org/journals/computational-neuroscience/articles/10.3389/fncom.2022.1004988/full."
      ]
    }
  ],
  "metadata": {
    "colab": {
      "provenance": []
    },
    "kernelspec": {
      "display_name": "Python 3",
      "name": "python3"
    },
    "language_info": {
      "name": "python"
    }
  },
  "nbformat": 4,
  "nbformat_minor": 0
}
